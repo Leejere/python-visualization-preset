{
 "cells": [
  {
   "cell_type": "markdown",
   "id": "212f822e",
   "metadata": {},
   "source": [
    "# Lighten and Dim Colors\n",
    "\n",
    "In this section, we want to create functions that makes variations off of the main colors - that is, to lighten and dim the colors to a certain degree. To do this, a color in HEX is first transformed into HSL, and the lightness (and sometimes saturation) gets changed."
   ]
  },
  {
   "cell_type": "markdown",
   "id": "ff6778e0",
   "metadata": {},
   "source": [
    "## Convert colors between RGB and HSL"
   ]
  },
  {
   "cell_type": "code",
   "execution_count": 1,
   "id": "6658d122",
   "metadata": {},
   "outputs": [
    {
     "name": "stderr",
     "output_type": "stream",
     "text": [
      "  % Total    % Received % Xferd  Average Speed   Time    Time     Time  Current\n",
      "                                 Dload  Upload   Total   Spent    Left  Speed\n",
      "\n",
      "  0     0    0     0    0     0      0      0 --:--:-- --:--:-- --:--:--     0\n",
      "  0     0    0     0    0     0      0      0 --:--:-- --:--:-- --:--:--     0\n",
      "curl: (35) schannel: failed to receive handshake, SSL/TLS connection failed\n"
     ]
    }
   ],
   "source": [
    "!curl -O https://raw.githubusercontent.com/Leejere/python-visualization-preset/main/convert_colors.ipynb"
   ]
  },
  {
   "cell_type": "code",
   "execution_count": 2,
   "id": "eaf567d0",
   "metadata": {},
   "outputs": [],
   "source": [
    "%run convert_colors.ipynb"
   ]
  },
  {
   "cell_type": "markdown",
   "id": "c5c4761b",
   "metadata": {},
   "source": [
    "## Lighten colors"
   ]
  },
  {
   "cell_type": "code",
   "execution_count": null,
   "id": "932bc179",
   "metadata": {},
   "outputs": [],
   "source": [
    "# This function takes in three inputs:\n",
    "# 1. The original color HEX (string)\n",
    "# 2. "
   ]
  },
  {
   "cell_type": "code",
   "execution_count": null,
   "id": "5b7c35d1",
   "metadata": {},
   "outputs": [],
   "source": []
  }
 ],
 "metadata": {
  "kernelspec": {
   "display_name": "Python 3 (ipykernel)",
   "language": "python",
   "name": "python3"
  },
  "language_info": {
   "codemirror_mode": {
    "name": "ipython",
    "version": 3
   },
   "file_extension": ".py",
   "mimetype": "text/x-python",
   "name": "python",
   "nbconvert_exporter": "python",
   "pygments_lexer": "ipython3",
   "version": "3.9.13"
  }
 },
 "nbformat": 4,
 "nbformat_minor": 5
}

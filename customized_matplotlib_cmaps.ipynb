{
 "cells": [
  {
   "cell_type": "markdown",
   "id": "c0d2b413",
   "metadata": {},
   "source": [
    "# Customized Matplotlib Color Maps\n",
    "\n",
    "In this section are some functions that create matplotlib color maps based on chosed theme colors."
   ]
  },
  {
   "cell_type": "code",
   "execution_count": 5,
   "id": "5daebd46",
   "metadata": {},
   "outputs": [
    {
     "name": "stderr",
     "output_type": "stream",
     "text": [
      "  % Total    % Received % Xferd  Average Speed   Time    Time     Time  Current\n",
      "                                 Dload  Upload   Total   Spent    Left  Speed\n",
      "\n",
      "  0     0    0     0    0     0      0      0 --:--:-- --:--:-- --:--:--     0\n",
      "100 10665  100 10665    0     0  95841      0 --:--:-- --:--:-- --:--:-- 96954\n"
     ]
    }
   ],
   "source": [
    "# First, load the codes that convert between RGB and HSL codes\n",
    "!curl -O https://raw.githubusercontent.com/Leejere/python-visualization-preset/main/convert_colors.ipynb\n",
    "\n",
    "%run convert_colors.ipynb"
   ]
  },
  {
   "cell_type": "code",
   "execution_count": 6,
   "id": "bfb67940",
   "metadata": {},
   "outputs": [],
   "source": [
    "import numpy as np\n",
    "import matplotlib.pyplot as plt\n",
    "from matplotlib import cm\n",
    "from matplotlib.colors import ListedColormap, LinearSegmentedColormap"
   ]
  },
  {
   "cell_type": "markdown",
   "id": "313207d3",
   "metadata": {},
   "source": [
    "## Sequential color maps\n",
    "\n",
    "First, let's create a monochromatic sequential color map based off of a theme color and transitioning towards white, black, or transparent. Note that sometimes, we want a color map that is not entirely uniform in hue. We can take an additional hue into the function."
   ]
  },
  {
   "cell_type": "code",
   "execution_count": 7,
   "id": "3d2d5ff9",
   "metadata": {
    "code_folding": [
     30,
     32,
     36,
     38,
     52,
     61
    ]
   },
   "outputs": [],
   "source": [
    "# Inputs:\n",
    "# theme_color: string, hex: the main color that this cmap is based on\n",
    "# aux_color: hue at the other end of the color map. Takes either a string(hex) or a number(other hex); if not, default to same\n",
    "# end_saturation (optional): \"same\", \"down\", \"gray\", \"as aux\" (same as aux color) or integer (pct)\n",
    "# end_lightness: integer (pct); black if 0, white if 100; or \"same\" \"as aux\"\n",
    "# end_alpha: number(transparency 0-1)\n",
    "# invert: True, False\n",
    "def create_mono_cmap(theme_color, aux_color = 'same', end_saturation = 'same', end_lightness = 100, end_alpha = 1, invert = False):\n",
    "    \n",
    "    # First, convert this color into HSL\n",
    "    this_h, this_s, this_l = [i for i in hex_to_hsl(theme_color)] # this_s, this_l: 0-100\n",
    "    this_a = 1. # Starting alpha is 1.\n",
    "      \n",
    "    # Get end HSL\n",
    "    # Keep hue same\n",
    "    if aux_color == 'same':\n",
    "        end_h = this_h\n",
    "        aux_h, aux_s, aux_l = [i for i in hex_to_hsl(theme_color)] # aux_s, aux_l: 0-100\n",
    "    elif type(aux_color) == str:\n",
    "        end_h = hex_to_hsl(aux_color)[0]\n",
    "        aux_h, aux_s, aux_l = [i for i in hex_to_hsl(aux_color)] # aux_s, aux_l: 0-100\n",
    "    else:\n",
    "        end_h = int(aux_color)\n",
    "        \n",
    "    \n",
    "    # Saturation (0-100)\n",
    "    if end_saturation == 'same':\n",
    "        end_s = this_s\n",
    "    elif end_saturation == 'down':\n",
    "        end_s = this_s / 2\n",
    "    elif end_saturation == 'gray':\n",
    "        end_s = 0\n",
    "    elif end_saturation == 'as aux':\n",
    "        end_s = aux_s\n",
    "    elif end_saturation <= 100 & end_saturation >= 0:\n",
    "        end_s = end_saturation\n",
    "    else:\n",
    "        print('end_saturation input error')\n",
    "    \n",
    "    # Lightness (0-100)\n",
    "    if end_lightness == 'same':\n",
    "        end_l = this_l\n",
    "    elif end_lightness == 'as aux':\n",
    "        end_l = aux_l\n",
    "    elif end_lightness >= 0 & end_lightness <= 100:\n",
    "        end_l = end_lightness\n",
    "    else:\n",
    "        print('end_lightness input error')\n",
    "    \n",
    "    # Alpha\n",
    "    if end_alpha >= 0 & end_alpha <= 1:\n",
    "        end_a = end_alpha\n",
    "    else:\n",
    "        print('end_alpha input error')\n",
    "    \n",
    "    # Now we'll convert the hsl's into rgb's\n",
    "    this_r, this_g, this_b = [i for i in hsl_to_rgb(this_h, this_s, this_l)]\n",
    "    end_r, end_g, end_b = [i for i in hsl_to_rgb(end_h, end_s, end_l)]\n",
    "    \n",
    "    if invert == True:\n",
    "        # Sway this and end\n",
    "        temp_r, temp_g, temp_b = this_r, this_g, this_b\n",
    "        this_r, this_g, this_b = end_r, end_g, end_b\n",
    "        end_r, end_g, end_b = temp_r, temp_g, temp_b\n",
    "    \n",
    "    # Create color map\n",
    "    cmap_array = np.ones((256, 4)) # Create a two-dimensional np.array\n",
    "    cmap_array[:, 0] = np.linspace(this_r / 255, end_r / 255, 256) # Red\n",
    "    cmap_array[:, 1] = np.linspace(this_g / 255, end_g / 255, 256) # Green\n",
    "    cmap_array[:, 2] = np.linspace(this_b / 255, end_b / 255, 256) # Blue\n",
    "    cmap_array[:, 3] = np.linspace(this_a, end_a, 256) # Alpha\n",
    "    \n",
    "    return ListedColormap(cmap_array)"
   ]
  },
  {
   "cell_type": "code",
   "execution_count": 8,
   "id": "b759e9f7",
   "metadata": {},
   "outputs": [
    {
     "data": {
      "image/png": "[encoded data removed]",
      "text/html": [
       "<div style=\"vertical-align: middle;\"><strong>from_list</strong> </div><div class=\"cmap\"><img alt=\"from_list colormap\" title=\"from_list\" style=\"border: 1px solid #555;\" src=\"data:image/png;base64,iVBORw0KGgoAAAANSUhEUgAAAgAAAABACAYAAABsv8+/AAAAGHRFWHRUaXRsZQBmcm9tX2xpc3QgY29sb3JtYXBDL89FAAAAHnRFWHREZXNjcmlwdGlvbgBmcm9tX2xpc3QgY29sb3JtYXABtCnOAAAAMHRFWHRBdXRob3IATWF0cGxvdGxpYiB2My41LjMsIGh0dHBzOi8vbWF0cGxvdGxpYi5vcmdn0eiSAAAAMnRFWHRTb2Z0d2FyZQBNYXRwbG90bGliIHYzLjUuMywgaHR0cHM6Ly9tYXRwbG90bGliLm9yZ0l3d7UAAAGmSURBVHic7dZBTsJQFEBR6o7dBbt1CToCgqb0/5Y6uedMyMf46CsNucvX9fP78mR5ehk/39+YOj/ePTbn73nsuh/HY3Om78/t88++zxtztvffOg9e98qc5fB93rv/7eWk527w/5Z3P3eTc5Z/us9rc9b33zq/5/sa3n/0eia/r+n9z/r93dpjcu74/q//vv934fd5dP99c+bPK/vvnLP3ufu4AAA5AgAAggQAAAQJAAAIEgAAECQAACBIAABAkAAAgCABAABBAgAAggQAAAQJAAAIEgAAECQAACBIAABAkAAAgCABAABBAgAAggQAAAQJAAAIEgAAECQAACBIAABAkAAAgCABAABBAgAAggQAAAQJAAAIEgAAECQAACBIAABAkAAAgCABAABBAgAAggQAAAQJAAAIEgAAECQAACBIAABAkAAAgCABAABBAgAAggQAAAQJAAAIEgAAECQAACBIAABAkAAAgCABAABBAgAAggQAAAQJAAAIEgAAECQAACBIAABAkAAAgCABAABBAgAAggQAAAQJAAAIEgAAECQAACBIAABA0A8kiwR8FqfcrgAAAABJRU5ErkJggg==\"></div><div style=\"vertical-align: middle; max-width: 514px; display: flex; justify-content: space-between;\"><div style=\"float: left;\"><div title=\"#ef8871ff\" style=\"display: inline-block; width: 1em; height: 1em; margin: 0; vertical-align: middle; border: 1px solid #555; background-color: #ef8871ff;\"></div> under</div><div style=\"margin: 0 auto; display: inline-block;\">bad <div title=\"#00000000\" style=\"display: inline-block; width: 1em; height: 1em; margin: 0; vertical-align: middle; border: 1px solid #555; background-color: #00000000;\"></div></div><div style=\"float: right;\">over <div title=\"#ffffffff\" style=\"display: inline-block; width: 1em; height: 1em; margin: 0; vertical-align: middle; border: 1px solid #555; background-color: #ffffffff;\"></div></div>"
      ],
      "text/plain": [
       "<matplotlib.colors.ListedColormap at 0x1d24030d0d0>"
      ]
     },
     "execution_count": 8,
     "metadata": {},
     "output_type": "execute_result"
    }
   ],
   "source": [
    "# Demonstrate\n",
    "create_mono_cmap(theme_color = '#EF8872')"
   ]
  },
  {
   "cell_type": "markdown",
   "id": "42beb880",
   "metadata": {},
   "source": [
    "## Diverging color maps"
   ]
  },
  {
   "cell_type": "markdown",
   "id": "e0e7f814",
   "metadata": {},
   "source": [
    "Based on the above code, it is easy to define another function that creates diverging color maps."
   ]
  },
  {
   "cell_type": "code",
   "execution_count": 71,
   "id": "6f74c27d",
   "metadata": {},
   "outputs": [],
   "source": [
    "# Inputs:\n",
    "# end_color_1, end_color_2: string, two colors at the ends of the color map\n",
    "\n",
    "# mid_pos: position (number, 0-1) of the change of hue; color_1 transitions into mid_pos, and from mit_pos the color transitions into color_2\n",
    "# mid_method: \"white\", \"black\", \"transparent\"\n",
    "# mid_alpha: numeric 0-1\n",
    "\n",
    "def create_div_cmap(end_color_1, end_color_2, mid_pos = 0.5, mid_method = \"white\", mid_alpha = 1):\n",
    "    \n",
    "    # Get rgb of end_color_1 and end_color_2\n",
    "    # N.B. Result needs to be divided by 255\n",
    "    end_r_1, end_g_1, end_b_1 = [i / 255 for i in hex_to_rgb(end_color_1)]\n",
    "    end_r_2, end_g_2, end_b_2 = [i / 255 for i in hex_to_rgb(end_color_2)]\n",
    "    \n",
    "    end_alpha_1 = 1\n",
    "    end_alpha_2 = 1\n",
    "    \n",
    "    # Now calculate the middle color\n",
    "    # We use TWO mid colors. Although there is only one mid point, we use two mid colors to transtion with their own corresponding theme color\n",
    "    # When mid_method == \"white\" or \"black\" the two mid colors are the same\n",
    "    \n",
    "    if mid_method == \"white\":\n",
    "        mid_r_1, mid_g_1, mid_b_1 = [1., 1., 1.]\n",
    "        mid_r_2, mid_g_2, mid_b_2 = [1., 1., 1.]\n",
    "    elif mid_method == \"black\":\n",
    "        mid_r_1, mid_g_1, mid_b_1 = [0., 0., 0.]\n",
    "        mid_r_2, mid_g_2, mid_b_2 = [0., 0., 0.]\n",
    "    elif mid_method == \"alpha\":\n",
    "        mid_r_1, mid_g_1, mid_b_1 = end_r_1, end_g_1, end_b_1\n",
    "        mid_r_2, mid_g_2, mid_b_2 = end_r_2, end_g_2, end_b_2\n",
    "        mid_alpha = 0\n",
    "    \n",
    "    # find the length of two halves\n",
    "    left_length = int(mid_pos * 255)\n",
    "    right_length = 256 - left_length\n",
    "    \n",
    "    # Create left half\n",
    "    left_array = np.ones((left_length, 4))\n",
    "    left_array[:, 0] = np.linspace(end_r_1, mid_r_1, left_length) # Red\n",
    "    left_array[:, 1] = np.linspace(end_g_1, mid_g_1, left_length) # Green\n",
    "    left_array[:, 2] = np.linspace(end_b_1, mid_b_1, left_length) # Blue\n",
    "    left_array[:, 3] = np.linspace(end_alpha_1, mid_alpha, left_length) # Alpha\n",
    "       \n",
    "    # Create right half\n",
    "    right_array = np.ones((right_length, 4))\n",
    "    right_array[:, 0] = np.linspace(mid_r_2, end_r_2, right_length) # Red\n",
    "    right_array[:, 1] = np.linspace(mid_g_2, end_g_2, right_length) # Green\n",
    "    right_array[:, 2] = np.linspace(mid_b_2, end_b_2, right_length) # Blue\n",
    "    right_array[:, 3] = np.linspace(mid_alpha, end_alpha_2, right_length) # Alpha\n",
    "    \n",
    "    # Create final\n",
    "    cmap_array = np.vstack((left_array, right_array))\n",
    "    \n",
    "    return ListedColormap(cmap_array)"
   ]
  },
  {
   "cell_type": "code",
   "execution_count": 76,
   "id": "d29ec6c0",
   "metadata": {},
   "outputs": [
    {
     "data": {
      "image/png": "[encoded data removed]",
      "text/html": [
       "<div style=\"vertical-align: middle;\"><strong>from_list</strong> </div><div class=\"cmap\"><img alt=\"from_list colormap\" title=\"from_list\" style=\"border: 1px solid #555;\" src=\"data:image/png;base64,iVBORw0KGgoAAAANSUhEUgAAAgAAAABACAYAAABsv8+/AAAAGHRFWHRUaXRsZQBmcm9tX2xpc3QgY29sb3JtYXBDL89FAAAAHnRFWHREZXNjcmlwdGlvbgBmcm9tX2xpc3QgY29sb3JtYXABtCnOAAAAMHRFWHRBdXRob3IATWF0cGxvdGxpYiB2My41LjMsIGh0dHBzOi8vbWF0cGxvdGxpYi5vcmdn0eiSAAAAMnRFWHRTb2Z0d2FyZQBNYXRwbG90bGliIHYzLjUuMywgaHR0cHM6Ly9tYXRwbG90bGliLm9yZ0l3d7UAAAG5SURBVHic7dZRTsJAFEDRwe7YVbhbd2D9ERSaSosYSO45P82EoZ0H/biH97fXeYwxPuZ5/LzOp/W4WF/uG+fr8fvnW+//fZ+x8r2V5y/OOVbO9eD5juvxZPOdzvVk8y3O9STzHb+/ONeN8628/7vnO93nTvNtfP8fNd/Ry8v5dbq6Pvxt/7T1eYeN9z/fv7pv8dy9c+w817Rz/9Y5rp3r337f43rf/3nr/Nt/35Vz3fs9nr72DwAgRwAAQJAAAIAgAQAAQQIAAIIEAAAECQAACBIAABAkAAAgSAAAQJAAAIAgAQAAQQIAAIIEAAAECQAACBIAABAkAAAgSAAAQJAAAIAgAQAAQQIAAIIEAAAECQAACBIAABAkAAAgSAAAQJAAAIAgAQAAQQIAAIIEAAAECQAACBIAABAkAAAgSAAAQJAAAIAgAQAAQQIAAIIEAAAECQAACBIAABAkAAAgSAAAQJAAAIAgAQAAQQIAAIIEAAAECQAACBIAABAkAAAgSAAAQJAAAIAgAQAAQQIAAIIEAAAECQAACBIAABAkAAAgSAAAQJAAAIAgAQAAQQIAAIIEAAAECQAACPoEJ0yVbg/y8ewAAAAASUVORK5CYII=\"></div><div style=\"vertical-align: middle; max-width: 514px; display: flex; justify-content: space-between;\"><div style=\"float: left;\"><div title=\"#ef8872ff\" style=\"display: inline-block; width: 1em; height: 1em; margin: 0; vertical-align: middle; border: 1px solid #555; background-color: #ef8872ff;\"></div> under</div><div style=\"margin: 0 auto; display: inline-block;\">bad <div title=\"#00000000\" style=\"display: inline-block; width: 1em; height: 1em; margin: 0; vertical-align: middle; border: 1px solid #555; background-color: #00000000;\"></div></div><div style=\"float: right;\">over <div title=\"#fdd310ff\" style=\"display: inline-block; width: 1em; height: 1em; margin: 0; vertical-align: middle; border: 1px solid #555; background-color: #fdd310ff;\"></div></div>"
      ],
      "text/plain": [
       "<matplotlib.colors.ListedColormap at 0x1f8de564a60>"
      ]
     },
     "execution_count": 76,
     "metadata": {},
     "output_type": "execute_result"
    }
   ],
   "source": [
    "create_div_cmap(end_color_1 = '#EF8872',\n",
    "                end_color_2 = '#FDD310',\n",
    "                mid_pos = 0.6,\n",
    "                mid_method = \"black\")"
   ]
  }
 ],
 "metadata": {
  "kernelspec": {
   "display_name": "Python 3 (ipykernel)",
   "language": "python",
   "name": "python3"
  },
  "language_info": {
   "codemirror_mode": {
    "name": "ipython",
    "version": 3
   },
   "file_extension": ".py",
   "mimetype": "text/x-python",
   "name": "python",
   "nbconvert_exporter": "python",
   "pygments_lexer": "ipython3",
   "version": "3.9.13"
  }
 },
 "nbformat": 4,
 "nbformat_minor": 5
}

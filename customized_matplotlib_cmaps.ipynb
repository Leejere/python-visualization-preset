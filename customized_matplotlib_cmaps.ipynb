{
 "cells": [
  {
   "cell_type": "markdown",
   "id": "3147a73a",
   "metadata": {},
   "source": [
    "# Customized Matplotlib Color Maps\n",
    "\n",
    "In this section are some functions that create matplotlib color maps based on chosed theme colors."
   ]
  },
  {
   "cell_type": "code",
   "execution_count": 20,
   "id": "3db37658",
   "metadata": {},
   "outputs": [
    {
     "name": "stderr",
     "output_type": "stream",
     "text": [
      "  % Total    % Received % Xferd  Average Speed   Time    Time     Time  Current\n",
      "                                 Dload  Upload   Total   Spent    Left  Speed\n",
      "\n",
      "  0     0    0     0    0     0      0      0 --:--:-- --:--:-- --:--:--     0\n",
      "100  9533  100  9533    0     0   178k      0 --:--:-- --:--:-- --:--:--  182k\n"
     ]
    }
   ],
   "source": [
    "# First, load the codes that convert between RGB and HSL codes\n",
    "!curl -O https://raw.githubusercontent.com/Leejere/python-visualization-preset/main/convert_colors.ipynb\n",
    "\n",
    "%run convert_colors.ipynb"
   ]
  },
  {
   "cell_type": "markdown",
   "id": "15fa2570",
   "metadata": {},
   "source": [
    "First, let's create a monochromatic sequential color map based off of a theme color and transitioning towards white, black, or transparent."
   ]
  },
  {
   "cell_type": "code",
   "execution_count": null,
   "id": "87456c44",
   "metadata": {},
   "outputs": [],
   "source": [
    "# Let's say we use this salmon color (#EF8872)\n",
    "\n",
    "# Inputs:\n",
    "# theme_color: string, hex: the main color that this cmap is based on\n",
    "# end_saturation (optional): \"same\", \"down\", \"gray\", or integer (pct)\n",
    "# end_lightness: integer (pct); black if 0, white if 100; or \"same\"\n",
    "# end_alpha: integer(transparency pct)\n",
    "def create_mono_cmap(theme_color, end_saturation, end_lightness, end_alpha):\n",
    "    \n",
    "    # First, convert this color into HSL\n",
    "    this_h, this_s, this_l = [i for i in hex_to_hsl(theme_color)]\n",
    "    this_s /= 100\n",
    "    this_l /= 100\n",
    "    \n",
    "    # Get end HSL\n",
    "    # Keep hue same\n",
    "    # Saturation\n",
    "    if end_saturation == 'same':\n",
    "        end_s = this_s\n",
    "    elif end_saturation == 'down':\n",
    "        end_s = this_s / 2\n",
    "    elif end_saturation == 'gray':\n",
    "        end_s = 0\n",
    "    elif end_saturation <= 100 & end_saturation >= 0:\n",
    "        end_s = end_saturation / 100\n",
    "    else:\n",
    "        print('end_saturation input error')\n",
    "    \n",
    "    # Lightness\n",
    "    if end_lightness == 'same':\n",
    "        end_l = this_l\n",
    "    elif end_lightness >= 0 & end_lightness <= 100:\n",
    "        end_l = end_lightness / 100\n",
    "    else:\n",
    "        print('end_lightness input error')\n",
    "    \n",
    "    # Alpha\n",
    "    if end_alpha >= 0 & end_alpha <= 100:\n",
    "        end_a = end_alpha / 100\n",
    "    else:\n",
    "        print('end_alpha input error')\n",
    "    \n",
    "    # Now we'll convert the hsl's into rgb's\n",
    "    \n",
    "    \n",
    "    # Create color map\n",
    "    \n",
    "    vals = np.ones((256, 4)) # Create a two-dimensional np.array\n",
    "    vals[:, 0] = np.linspace(this_h / 256, 1, 256) # Hue\n",
    "    vals[:, 1] = np.linspace(39/256, 1, N)\n",
    "    vals[:, 2] = np.linspace(41/256, 1, N)\n",
    "    vals[:, 2] = np.linspace(41/256, 1, N)\n",
    "    newcmp = ListedColormap(vals)"
   ]
  },
  {
   "cell_type": "code",
   "execution_count": 9,
   "id": "68fef5e5",
   "metadata": {},
   "outputs": [],
   "source": [
    "rgb"
   ]
  },
  {
   "cell_type": "code",
   "execution_count": 16,
   "id": "b362c7b2",
   "metadata": {},
   "outputs": [],
   "source": [
    "this_hue, this_saturation, this_lightness = [i for i in hex_to_hsl('EF8872')]"
   ]
  },
  {
   "cell_type": "code",
   "execution_count": 18,
   "id": "23792c3a",
   "metadata": {},
   "outputs": [
    {
     "data": {
      "text/plain": [
       "49"
      ]
     },
     "execution_count": 18,
     "metadata": {},
     "output_type": "execute_result"
    }
   ],
   "source": [
    "this_lightness"
   ]
  }
 ],
 "metadata": {
  "kernelspec": {
   "display_name": "Python 3 (ipykernel)",
   "language": "python",
   "name": "python3"
  },
  "language_info": {
   "codemirror_mode": {
    "name": "ipython",
    "version": 3
   },
   "file_extension": ".py",
   "mimetype": "text/x-python",
   "name": "python",
   "nbconvert_exporter": "python",
   "pygments_lexer": "ipython3",
   "version": "3.9.13"
  }
 },
 "nbformat": 4,
 "nbformat_minor": 5
}

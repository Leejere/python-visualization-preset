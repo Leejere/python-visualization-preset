{
 "cells": [
  {
   "cell_type": "markdown",
   "id": "c0d2b413",
   "metadata": {},
   "source": [
    "# Customized Matplotlib Color Maps\n",
    "\n",
    "In this section are some functions that create matplotlib color maps based on chosed theme colors."
   ]
  },
  {
   "cell_type": "code",
   "execution_count": 9,
   "id": "5daebd46",
   "metadata": {},
   "outputs": [
    {
     "name": "stderr",
     "output_type": "stream",
     "text": [
      "  % Total    % Received % Xferd  Average Speed   Time    Time     Time  Current\n",
      "                                 Dload  Upload   Total   Spent    Left  Speed\n",
      "\n",
      "  0     0    0     0    0     0      0      0 --:--:-- --:--:-- --:--:--     0\n",
      "100 10683  100 10683    0     0   100k      0 --:--:-- --:--:-- --:--:--  101k\n"
     ]
    }
   ],
   "source": [
    "# First, load the codes that convert between RGB and HSL codes\n",
    "!curl -O https://raw.githubusercontent.com/Leejere/python-visualization-preset/main/convert_colors.ipynb\n",
    "\n",
    "%run convert_colors.ipynb"
   ]
  },
  {
   "cell_type": "code",
   "execution_count": 10,
   "id": "bfb67940",
   "metadata": {},
   "outputs": [],
   "source": [
    "import numpy as np\n",
    "import matplotlib.pyplot as plt\n",
    "from matplotlib import cm\n",
    "from matplotlib.colors import ListedColormap, LinearSegmentedColormap"
   ]
  },
  {
   "cell_type": "markdown",
   "id": "313207d3",
   "metadata": {},
   "source": [
    "## Sequential color maps\n",
    "\n",
    "First, let's create a monochromatic sequential color map based off of a theme color and transitioning towards white, black, or transparent. Note that sometimes, we want a color map that is not entirely uniform in hue. We can take an additional hue into the function."
   ]
  },
  {
   "cell_type": "code",
   "execution_count": 6,
   "id": "3d2d5ff9",
   "metadata": {
    "code_folding": [
     30,
     32,
     36,
     38,
     52,
     61
    ]
   },
   "outputs": [],
   "source": [
    "# Inputs:\n",
    "# theme_color: string, hex: the main color that this cmap is based on\n",
    "# aux_color: hue at the other end of the color map. Takes either a string(hex) or a number(other hex); if not, default to same\n",
    "# end_saturation (optional): \"same\", \"down\", \"gray\", \"as aux\" (same as aux color) or integer (pct)\n",
    "# end_lightness: integer (pct); black if 0, white if 100; or \"same\" \"as aux\"\n",
    "# end_alpha: number(transparency 0-1)\n",
    "# invert: True, False\n",
    "def create_mono_cmap(theme_color, aux_color = 'same', end_saturation = 'same', end_lightness = 100, end_alpha = 1, invert = False):\n",
    "    \n",
    "    # First, convert this color into HSL\n",
    "    this_h, this_s, this_l = [i for i in hex_to_hsl(theme_color)] # this_s, this_l: 0-100\n",
    "    this_a = 1. # Starting alpha is 1.\n",
    "      \n",
    "    # Get end HSL\n",
    "    # Keep hue same\n",
    "    if aux_color == 'same':\n",
    "        end_h = this_h\n",
    "        aux_h, aux_s, aux_l = [i for i in hex_to_hsl(theme_color)] # aux_s, aux_l: 0-100\n",
    "    elif type(aux_color) == str:\n",
    "        end_h = hex_to_hsl(aux_color)[0]\n",
    "        aux_h, aux_s, aux_l = [i for i in hex_to_hsl(aux_color)] # aux_s, aux_l: 0-100\n",
    "    else:\n",
    "        end_h = int(aux_color)\n",
    "        \n",
    "    \n",
    "    # Saturation (0-100)\n",
    "    if end_saturation == 'same':\n",
    "        end_s = this_s\n",
    "    elif end_saturation == 'down':\n",
    "        end_s = this_s / 2\n",
    "    elif end_saturation == 'gray':\n",
    "        end_s = 0\n",
    "    elif end_saturation == 'as aux':\n",
    "        end_s = aux_s\n",
    "    elif end_saturation <= 100 & end_saturation >= 0:\n",
    "        end_s = end_saturation\n",
    "    else:\n",
    "        print('end_saturation input error')\n",
    "    \n",
    "    # Lightness (0-100)\n",
    "    if end_lightness == 'same':\n",
    "        end_l = this_l\n",
    "    elif end_lightness == 'as aux':\n",
    "        end_l = aux_l\n",
    "    elif end_lightness >= 0 & end_lightness <= 100:\n",
    "        end_l = end_lightness\n",
    "    else:\n",
    "        print('end_lightness input error')\n",
    "    \n",
    "    # Alpha\n",
    "    if end_alpha >= 0 & end_alpha <= 1:\n",
    "        end_a = end_alpha\n",
    "    else:\n",
    "        print('end_alpha input error')\n",
    "    \n",
    "    # Now we'll convert the hsl's into rgb's\n",
    "    this_r, this_g, this_b = [i for i in hsl_to_rgb(this_h, this_s, this_l)]\n",
    "    end_r, end_g, end_b = [i for i in hsl_to_rgb(end_h, end_s, end_l)]\n",
    "    \n",
    "    if invert == True:\n",
    "        # Sway this and end\n",
    "        temp_r, temp_g, temp_b = this_r, this_g, this_b\n",
    "        this_r, this_g, this_b = end_r, end_g, end_b\n",
    "        end_r, end_g, end_b = temp_r, temp_g, temp_b\n",
    "    \n",
    "    # Create color map\n",
    "    cmap_array = np.ones((256, 4)) # Create a two-dimensional np.array\n",
    "    cmap_array[:, 0] = np.linspace(this_r / 255, end_r / 255, 256) # Red\n",
    "    cmap_array[:, 1] = np.linspace(this_g / 255, end_g / 255, 256) # Green\n",
    "    cmap_array[:, 2] = np.linspace(this_b / 255, end_b / 255, 256) # Blue\n",
    "    cmap_array[:, 3] = np.linspace(this_a, end_a, 256) # Alpha\n",
    "    \n",
    "    return ListedColormap(cmap_array)"
   ]
  },
  {
   "cell_type": "markdown",
   "id": "42beb880",
   "metadata": {},
   "source": [
    "## Diverging color maps"
   ]
  },
  {
   "cell_type": "markdown",
   "id": "782f0c76",
   "metadata": {},
   "source": [
    "Based on the above code, it is easy to define another function that creates diverging color maps."
   ]
  },
  {
   "cell_type": "code",
   "execution_count": null,
   "id": "b957adba",
   "metadata": {},
   "outputs": [],
   "source": [
    "# Inputs:\n",
    "# end_color_1, end_color_2: string, two colors at the ends of the color map\n",
    "\n",
    "# mid_pos: position (number, 0-1) of the change of hue; color_1 transitions into mid_pos, and from mit_pos the color transitions into color_2\n",
    "# mid_white: middle lightness set to 100 (True) or 0 (False)\n",
    "# mid_saturation: \"same\", \"down\", \"gray\"\n",
    "# mid_alpha: number (0-1)\n",
    "def create_div_cmap(end_color_1, end_color_2, mid_pos = 0.5, mid_white = True, mid_saturation = \"same\", mid_alpha = 1):\n",
    "    \n",
    "    # Get rgb of end_color_1 and end_color_2\n",
    "    # N.B. Result already divided by 255\n",
    "    end_r_1, end_g_1, end_b_1 = [i for i in hex_to_rgb(end_color_1)]\n",
    "    end_r_2, end_g_2, end_b_2 = [i for i in hex_to_rgb(end_color_2)]\n",
    "    \n",
    "    # Now calculate the middle color\n",
    "    # We use TWO mid colors. Although there is only one mid point, "
   ]
  },
  {
   "cell_type": "code",
   "execution_count": 11,
   "id": "a6f9c594",
   "metadata": {},
   "outputs": [
    {
     "data": {
      "text/plain": [
       "[0.9372549019607843, 0.5333333333333333, 0.4470588235294118]"
      ]
     },
     "execution_count": 11,
     "metadata": {},
     "output_type": "execute_result"
    }
   ],
   "source": [
    "hex_to_rgb('#EF8872')"
   ]
  },
  {
   "cell_type": "code",
   "execution_count": 7,
   "id": "3ddba39a",
   "metadata": {
    "code_folding": []
   },
   "outputs": [],
   "source": [
    "def plot_example(cmap):\n",
    "    \"\"\"\n",
    "    helper function to plot two colormaps\n",
    "    \"\"\"\n",
    "    np.random.seed(19680801)\n",
    "    data = np.random.randn(30, 30)\n",
    "\n",
    "    fig, ax = plt.subplots(figsize=(2.5, 2))\n",
    "    psm = ax.pcolormesh(data, cmap = cmap, rasterized=True, vmin=-4, vmax=4)\n",
    "    fig.colorbar(psm, ax=ax)\n",
    "    plt.show()"
   ]
  },
  {
   "cell_type": "code",
   "execution_count": 8,
   "id": "d29ec6c0",
   "metadata": {},
   "outputs": [
    {
     "data": {
      "image/png": "[encoded data removed]",
      "text/html": [
       "<div style=\"vertical-align: middle;\"><strong>from_list</strong> </div><div class=\"cmap\"><img alt=\"from_list colormap\" title=\"from_list\" style=\"border: 1px solid #555;\" src=\"data:image/png;base64,iVBORw0KGgoAAAANSUhEUgAAAgAAAABACAYAAABsv8+/AAAAGHRFWHRUaXRsZQBmcm9tX2xpc3QgY29sb3JtYXBDL89FAAAAHnRFWHREZXNjcmlwdGlvbgBmcm9tX2xpc3QgY29sb3JtYXABtCnOAAAAMHRFWHRBdXRob3IATWF0cGxvdGxpYiB2My41LjMsIGh0dHBzOi8vbWF0cGxvdGxpYi5vcmdn0eiSAAAAMnRFWHRTb2Z0d2FyZQBNYXRwbG90bGliIHYzLjUuMywgaHR0cHM6Ly9tYXRwbG90bGliLm9yZ0l3d7UAAAGrSURBVHic7dZBboJQFEDR0h13F91tl9DO2gR8gYgw6D1npAi+L/HrXb4+P77fHlmW1fPNg8fHVy9v3mc4bzk9b5h/dF2/p90778GNGF4+O29z4aF1bS+7dt70+Za98148bzrv7/DZeef20biOV+3bo+u46b6P7zut46L7Ph5f/35cPm9n3948b1zHk/8H57/Hw769ad7mgr3fj53/g/35O8eHffu+vhwA+P8EAAAECQAACBIAABAkAAAgSAAAQJAAAIAgAQAAQQIAAIIEAAAECQAACBIAABAkAAAgSAAAQJAAAIAgAQAAQQIAAIIEAAAECQAACBIAABAkAAAgSAAAQJAAAIAgAQAAQQIAAIIEAAAECQAACBIAABAkAAAgSAAAQJAAAIAgAQAAQQIAAIIEAAAECQAACBIAABAkAAAgSAAAQJAAAIAgAQAAQQIAAIIEAAAECQAACBIAABAkAAAgSAAAQJAAAIAgAQAAQQIAAIIEAAAECQAACBIAABAkAAAgSAAAQJAAAIAgAQAAQQIAAIIEAAAECQAACBIAABAkAAAgSAAAQJAAAICgHwLnBD9/Md2HAAAAAElFTkSuQmCC\"></div><div style=\"vertical-align: middle; max-width: 514px; display: flex; justify-content: space-between;\"><div style=\"float: left;\"><div title=\"#ef8871ff\" style=\"display: inline-block; width: 1em; height: 1em; margin: 0; vertical-align: middle; border: 1px solid #555; background-color: #ef8871ff;\"></div> under</div><div style=\"margin: 0 auto; display: inline-block;\">bad <div title=\"#00000000\" style=\"display: inline-block; width: 1em; height: 1em; margin: 0; vertical-align: middle; border: 1px solid #555; background-color: #00000000;\"></div></div><div style=\"float: right;\">over <div title=\"#fef5cdff\" style=\"display: inline-block; width: 1em; height: 1em; margin: 0; vertical-align: middle; border: 1px solid #555; background-color: #fef5cdff;\"></div></div>"
      ],
      "text/plain": [
       "<matplotlib.colors.ListedColormap at 0x1f8dc77efd0>"
      ]
     },
     "execution_count": 8,
     "metadata": {},
     "output_type": "execute_result"
    }
   ],
   "source": [
    "create_mono_cmap(theme_color = '#EF8872', \n",
    "                 aux_color = '#FDD310', \n",
    "                 end_saturation = 'as aux', \n",
    "                 end_lightness = 90, \n",
    "                 end_alpha = 1)"
   ]
  }
 ],
 "metadata": {
  "kernelspec": {
   "display_name": "Python 3 (ipykernel)",
   "language": "python",
   "name": "python3"
  },
  "language_info": {
   "codemirror_mode": {
    "name": "ipython",
    "version": 3
   },
   "file_extension": ".py",
   "mimetype": "text/x-python",
   "name": "python",
   "nbconvert_exporter": "python",
   "pygments_lexer": "ipython3",
   "version": "3.9.13"
  }
 },
 "nbformat": 4,
 "nbformat_minor": 5
}

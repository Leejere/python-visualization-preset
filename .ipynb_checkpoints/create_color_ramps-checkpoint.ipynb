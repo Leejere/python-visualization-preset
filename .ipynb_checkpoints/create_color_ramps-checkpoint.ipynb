{
 "cells": [
  {
   "cell_type": "markdown",
   "id": "5fb597d0",
   "metadata": {},
   "source": [
    "# Create color ramps"
   ]
  },
  {
   "cell_type": "markdown",
   "id": "70f63212",
   "metadata": {},
   "source": [
    "## Converting from HSV or HSL to RGB\n",
    "\n",
    "Why conversions among HSV, HSL, and RGB color systems? Because we want to create sequential or diverging color ramp sets off of a particular theme color - and a good way to do that is to keep the hue and use a sequence of different brightness or lightness. For this purpose, we need to convert an RGB hex into its corresponding HSV/HSL, tweak the V or L, before converting the new colors back to RGB hexes.\n",
    "\n",
    "Below is the function that has `hue`, `saturation`, and `brightness`/`lightness` as input, and outputs the HEX of this color. The difference between the HSB and HSL systems is documented in this [Wikipedia page](https://en.wikipedia.org/wiki/HSL_and_HSV).\n",
    "The algorithms of these conversions are found on [this website](https://www.rapidtables.com/convert/color/index.html). Note that HSB and HSV bear the same meaning."
   ]
  },
  {
   "cell_type": "code",
   "execution_count": 16,
   "id": "5a774371",
   "metadata": {},
   "outputs": [
    {
     "name": "stderr",
     "output_type": "stream",
     "text": [
      "  % Total    % Received % Xferd  Average Speed   Time    Time     Time  Current\n",
      "                                 Dload  Upload   Total   Spent    Left  Speed\n",
      "\n",
      "  0     0    0     0    0     0      0      0 --:--:-- --:--:-- --:--:--     0\n",
      "100 10665  100 10665    0     0   358k      0 --:--:-- --:--:-- --:--:--  371k\n"
     ]
    }
   ],
   "source": [
    "!curl -O https://raw.githubusercontent.com/Leejere/python-visualization-preset/main/convert_colors.ipynb"
   ]
  },
  {
   "cell_type": "code",
   "execution_count": 17,
   "id": "fe8f87f7",
   "metadata": {},
   "outputs": [],
   "source": [
    "%run convert_colors.ipynb"
   ]
  },
  {
   "cell_type": "markdown",
   "id": "7800d26a",
   "metadata": {},
   "source": [
    "## Creating monochromatic color ramps\n",
    "In this section, let's try to make a functionality to create a **monochromatic color ramp** basing off of a theme color. This color ramp consists of a specific number of fading colors, the first being the theme color, and the last being white (#FFFFFF). Monochromatic, or sequential, color ramps, are used to demonstrate a values that vary only in extent (not in direction), where the theme color denotes the strongest or highest value, and the faded colors closer to the background color denote lower values. The background color (white or black) denotes zero."
   ]
  },
  {
   "cell_type": "markdown",
   "id": "7229a237",
   "metadata": {},
   "source": [
    "We create this color ramp by changing only the *lightness* of the theme color. First, we calculate the HSL of the theme color, using the functions created in the last section. Then, we make new colors using the same hue and saturation, but with varying lightness values. On a white background, we increasing the lightness values until the color becomes white (denoting zero); on a black background, vice versa."
   ]
  },
  {
   "cell_type": "code",
   "execution_count": 18,
   "id": "4f49730e",
   "metadata": {
    "code_folding": [
     5
    ]
   },
   "outputs": [],
   "source": [
    "# A function that creates a monochromatic color ramp\n",
    "# Takes 3 inputs: 1. theme color (string), 2. number of colors in this color ramp (int), 3. the lightness at the end of the sequence\n",
    "# End lightness should be close to 100 if using white background, and 0 if using black background\n",
    "# Outputs a list of the color ramp (in RGB HEX)\n",
    "\n",
    "def create_mono_lightness_ramp(theme_color, num_of_colors, end_lightness = 100):\n",
    "    \n",
    "    # Get the HSL of the theme color\n",
    "    theme_hue, theme_saturation, theme_lightness = hex_to_hsl(theme_color)[0], hex_to_hsl(theme_color)[1], hex_to_hsl(theme_color)[2]\n",
    "    \n",
    "    # Keep the H and S, make L lighter until 100% (or 0% against dark background)\n",
    "    lightness_seq = np.linspace(theme_lightness, end_lightness, num_of_colors)\n",
    "        \n",
    "    hex_seq = []\n",
    "    \n",
    "    for i in range(num_of_colors):\n",
    "        this_lightness = lightness_seq[i]\n",
    "        this_hex = hsl_to_hex(theme_hue, theme_saturation, this_lightness)\n",
    "        hex_seq.append(this_hex)\n",
    "        \n",
    "        \n",
    "    hex_seq.reverse()\n",
    "    \n",
    "    return hex_seq"
   ]
  },
  {
   "cell_type": "markdown",
   "id": "ba0f0ec6",
   "metadata": {},
   "source": [
    "## Creating diverging color ramps\n",
    "While monochromatic color ramps denote variations in extent, **diverging color ramps** denote variations not only in extent, but also in direction, e.g., positive and negative values. For this purpose, a diverging color ramp employs **two** theme colors, denoting the highest value in each direction. In this way, a diverging color ramp consists of two monochromatic color ramps, with the background color (white or black) presenting the zero value."
   ]
  },
  {
   "cell_type": "code",
   "execution_count": 19,
   "id": "67c36a3f",
   "metadata": {
    "code_folding": [
     10
    ]
   },
   "outputs": [],
   "source": [
    "# A function that creates a diverging color ramp\n",
    "# Takes 5 inputs:\n",
    "# 1. Theme color 1\n",
    "# 2. Theme color 2\n",
    "# 3. number of colors based off of theme color 1\n",
    "# 4. number of colors based off of theme color 2\n",
    "# 5. end lightness based off of theme color 1\n",
    "# 6. end lightness based off of theme color 2\n",
    "# 7. insert a zero color in the middle\n",
    "\n",
    "def create_div_lightness_ramp(theme_color_1, theme_color_2, num_of_colors_1, num_of_colors_2, end_lightness_1 = 100, end_lightness_2 = 100, insert_color = ''):\n",
    "    \n",
    "    # Get the HSL of the theme colors\n",
    "    theme_hue_1, theme_saturation_1, theme_lightness_1 = hex_to_hsl(theme_color_1)[0], hex_to_hsl(theme_color_1)[1], hex_to_hsl(theme_color_1)[2]\n",
    "    theme_hue_2, theme_saturation_2, theme_lightness_2 = hex_to_hsl(theme_color_2)[0], hex_to_hsl(theme_color_2)[1], hex_to_hsl(theme_color_2)[2]\n",
    "    \n",
    "    # If end_lightness_1 == end_lightness_2 == 0 or 100, \n",
    "    # it means they share a zero color, and the function automatically deletes a duplicate color\n",
    "    \n",
    "    ramp_1 = create_mono_lightness_ramp(theme_color_1, num_of_colors_1, end_lightness_1)\n",
    "    ramp_2 = create_mono_lightness_ramp(theme_color_2, num_of_colors_2, end_lightness_2)\n",
    "    ramp_1.reverse()\n",
    "    ramp = ramp_1 + ramp_2\n",
    "    \n",
    "    if (end_lightness_1 == 100 & end_lightness_2 == 100) | (end_lightness_1 == 0 & end_lightness_2 == 0):\n",
    "        ramp.pop(num_of_colors_1)\n",
    "    if insert_color != '':\n",
    "        ramp.insert(num_of_colors_1, insert_color)\n",
    "    \n",
    "    return ramp"
   ]
  },
  {
   "cell_type": "markdown",
   "id": "e2d4fb84",
   "metadata": {},
   "source": [
    "## Let's do some demonstration using the ipycanvas package"
   ]
  },
  {
   "cell_type": "code",
   "execution_count": 21,
   "id": "9814a9ab",
   "metadata": {
    "code_folding": []
   },
   "outputs": [
    {
     "name": "stdout",
     "output_type": "stream",
     "text": [
      "['#ffffff', '#fcdbe6', '#f9b7ce', '#f692b5', '#f36e9d', '#f04a84', '#ed266c']\n"
     ]
    },
    {
     "data": {
      "application/vnd.jupyter.widget-view+json": {
       "model_id": "91b163f0a3c44da1b4e966bcc537178d",
       "version_major": 2,
       "version_minor": 0
      },
      "text/plain": [
       "Canvas(height=35)"
      ]
     },
     "execution_count": 21,
     "metadata": {},
     "output_type": "execute_result"
    }
   ],
   "source": [
    "# For demonstration purposes, we use ipycanvas to draw out the palettes\n",
    "from ipycanvas import Canvas\n",
    "square_width = 25 # This is the width of each color block in the demonstration of palettes\n",
    "# Say our theme color is '#EE266D', let's demonstrate a white background:\n",
    "\n",
    "color_seq = create_mono_lightness_ramp('#EE266D', 7, 100)\n",
    "print(color_seq)\n",
    "\n",
    "canvas = Canvas(height = square_width + 10)\n",
    "for i in range(len(color_seq)):\n",
    "    canvas.fill_style = color_seq[i]\n",
    "    canvas.fill_rect(i * square_width, 10, square_width)\n",
    "    if color_seq[i].upper() == '#FFFFFF':\n",
    "        canvas.stroke_style = color_seq[i + 1]\n",
    "        canvas.stroke_rect(i * square_width, 10, square_width)\n",
    "canvas"
   ]
  },
  {
   "cell_type": "code",
   "execution_count": 22,
   "id": "92074c8a",
   "metadata": {},
   "outputs": [
    {
     "name": "stdout",
     "output_type": "stream",
     "text": [
      "['#000000', '#2a0311', '#550722', '#7f0a33', '#aa0e44', '#d41155', '#ed266c']\n"
     ]
    },
    {
     "data": {
      "application/vnd.jupyter.widget-view+json": {
       "model_id": "5e5513f99fee4bdf86c34e549dca857f",
       "version_major": 2,
       "version_minor": 0
      },
      "text/plain": [
       "Canvas(height=35)"
      ]
     },
     "execution_count": 22,
     "metadata": {},
     "output_type": "execute_result"
    }
   ],
   "source": [
    "# And then a dark background\n",
    "\n",
    "color_seq = create_mono_lightness_ramp('#EE266D', 7, 0)\n",
    "print(color_seq)\n",
    "\n",
    "canvas = Canvas(height = square_width + 10)\n",
    "for i in range(len(color_seq)):\n",
    "    canvas.fill_style = color_seq[i]\n",
    "    canvas.fill_rect(i * square_width, 10, square_width)\n",
    "    if color_seq[i].upper() == '#FFFFFF':\n",
    "        canvas.stroke_style = color_seq[i + 1]\n",
    "        canvas.stroke_rect(i * square_width, 10, square_width)\n",
    "canvas"
   ]
  },
  {
   "cell_type": "markdown",
   "id": "0fad30ac",
   "metadata": {},
   "source": [
    "Next, let's domonstrate a diverging color ramp consisting of two colors: pink (#EE266D) and blue (#00AEEF)."
   ]
  },
  {
   "cell_type": "code",
   "execution_count": 23,
   "id": "f740395b",
   "metadata": {},
   "outputs": [
    {
     "name": "stdout",
     "output_type": "stream",
     "text": [
      "['#ed266c', '#f47ba5', '#fbd0df', '#FFFFFF', '#ccf1ff', '#5ed4ff', '#00b0f0']\n"
     ]
    },
    {
     "data": {
      "application/vnd.jupyter.widget-view+json": {
       "model_id": "7e2dff9896944d5e80c9b579c0e889d6",
       "version_major": 2,
       "version_minor": 0
      },
      "text/plain": [
       "Canvas(height=35)"
      ]
     },
     "execution_count": 23,
     "metadata": {},
     "output_type": "execute_result"
    }
   ],
   "source": [
    "# Zero color of white and three categories in each direction starting from 90% lightness\n",
    "\n",
    "color_seq = create_div_lightness_ramp('#EE266D', '#00AEEF', 3, 3, 90, 90, '#FFFFFF')\n",
    "print(color_seq)\n",
    "\n",
    "canvas = Canvas(height = square_width + 10)\n",
    "for i in range(len(color_seq)):\n",
    "    canvas.fill_style = color_seq[i]\n",
    "    canvas.fill_rect(i * square_width, 10, square_width)\n",
    "canvas"
   ]
  },
  {
   "cell_type": "code",
   "execution_count": 24,
   "id": "50b640ef",
   "metadata": {},
   "outputs": [
    {
     "name": "stdout",
     "output_type": "stream",
     "text": [
      "['#ed266c', '#a30d42', '#47061c', '#000000', '#00384d', '#00749e', '#00b0f0']\n"
     ]
    },
    {
     "data": {
      "application/vnd.jupyter.widget-view+json": {
       "model_id": "09baed7c1a8e48fbaec3c6cb9bd0df98",
       "version_major": 2,
       "version_minor": 0
      },
      "text/plain": [
       "Canvas(height=35)"
      ]
     },
     "execution_count": 24,
     "metadata": {},
     "output_type": "execute_result"
    }
   ],
   "source": [
    "# Zero color of black starting from 15% lightness\n",
    "\n",
    "color_seq = create_div_lightness_ramp('#EE266D', '#00AEEF', 3, 3, 15, 15, '#000000')\n",
    "print(color_seq)\n",
    "\n",
    "canvas = Canvas(height = square_width + 10)\n",
    "for i in range(len(color_seq)):\n",
    "    canvas.fill_style = color_seq[i]\n",
    "    canvas.fill_rect(i * square_width, 10, square_width)\n",
    "canvas"
   ]
  },
  {
   "cell_type": "code",
   "execution_count": 25,
   "id": "1baeecb7",
   "metadata": {},
   "outputs": [
    {
     "name": "stdout",
     "output_type": "stream",
     "text": [
      "['#ed266c', '#f47ba5', '#fbd0df', '#ccf1ff', '#5ed4ff', '#00b0f0']\n"
     ]
    },
    {
     "data": {
      "application/vnd.jupyter.widget-view+json": {
       "model_id": "f0acc49981804591acb069e8aa44d681",
       "version_major": 2,
       "version_minor": 0
      },
      "text/plain": [
       "Canvas(height=35)"
      ]
     },
     "execution_count": 25,
     "metadata": {},
     "output_type": "execute_result"
    }
   ],
   "source": [
    "# No zero color, against white background\n",
    "\n",
    "color_seq = create_div_lightness_ramp('#EE266D', '#00AEEF', 3, 3, 90, 90)\n",
    "print(color_seq)\n",
    "\n",
    "canvas = Canvas(height = square_width + 10)\n",
    "for i in range(len(color_seq)):\n",
    "    canvas.fill_style = color_seq[i]\n",
    "    canvas.fill_rect(i * square_width, 10, square_width)\n",
    "canvas"
   ]
  },
  {
   "cell_type": "code",
   "execution_count": 26,
   "id": "e87558f7",
   "metadata": {},
   "outputs": [
    {
     "name": "stdout",
     "output_type": "stream",
     "text": [
      "['#ed266c', '#a30d42', '#47061c', '#00384d', '#00749e', '#00b0f0']\n"
     ]
    },
    {
     "data": {
      "application/vnd.jupyter.widget-view+json": {
       "model_id": "85195eca1bdf4c3d914fcd7b10b036f2",
       "version_major": 2,
       "version_minor": 0
      },
      "text/plain": [
       "Canvas(height=35)"
      ]
     },
     "execution_count": 26,
     "metadata": {},
     "output_type": "execute_result"
    }
   ],
   "source": [
    "# No zero color, against black background\n",
    "\n",
    "color_seq = create_div_lightness_ramp('#EE266D', '#00AEEF', 3, 3, 15, 15)\n",
    "print(color_seq)\n",
    "\n",
    "canvas = Canvas(height = square_width + 10)\n",
    "for i in range(len(color_seq)):\n",
    "    canvas.fill_style = color_seq[i]\n",
    "    canvas.fill_rect(i * square_width, 10, square_width)\n",
    "canvas"
   ]
  },
  {
   "cell_type": "code",
   "execution_count": 27,
   "id": "689ba777",
   "metadata": {},
   "outputs": [
    {
     "name": "stdout",
     "output_type": "stream",
     "text": [
      "['#ed266c', '#f692b5', '#ffffff', '#78dbff', '#00b0f0']\n"
     ]
    },
    {
     "data": {
      "application/vnd.jupyter.widget-view+json": {
       "model_id": "ce285559d89843b196fc76ed2c64e970",
       "version_major": 2,
       "version_minor": 0
      },
      "text/plain": [
       "Canvas(height=35)"
      ]
     },
     "execution_count": 27,
     "metadata": {},
     "output_type": "execute_result"
    }
   ],
   "source": [
    "# Automatic deleting duplicate white zero color\n",
    "\n",
    "color_seq = create_div_lightness_ramp('#EE266D', '#00AEEF', 3, 3, 100, 100)\n",
    "print(color_seq)\n",
    "\n",
    "canvas = Canvas(height = square_width + 10)\n",
    "for i in range(len(color_seq)):\n",
    "    canvas.fill_style = color_seq[i]\n",
    "    canvas.fill_rect(i * square_width, 10, square_width)\n",
    "canvas"
   ]
  },
  {
   "cell_type": "code",
   "execution_count": 28,
   "id": "f83f2135",
   "metadata": {},
   "outputs": [
    {
     "name": "stdout",
     "output_type": "stream",
     "text": [
      "['#ed266c', '#7f0a33', '#000000', '#005878', '#00b0f0']\n"
     ]
    },
    {
     "data": {
      "application/vnd.jupyter.widget-view+json": {
       "model_id": "b3f15226315a467d95cca87f74d2f4df",
       "version_major": 2,
       "version_minor": 0
      },
      "text/plain": [
       "Canvas(height=35)"
      ]
     },
     "execution_count": 28,
     "metadata": {},
     "output_type": "execute_result"
    }
   ],
   "source": [
    "# Automatic deleting duplicate black zero color\n",
    "\n",
    "color_seq = create_div_lightness_ramp('#EE266D', '#00AEEF', 3, 3, 0, 0)\n",
    "print(color_seq)\n",
    "\n",
    "canvas = Canvas(height = square_width + 10)\n",
    "for i in range(len(color_seq)):\n",
    "    canvas.fill_style = color_seq[i]\n",
    "    canvas.fill_rect(i * square_width, 10, square_width)\n",
    "canvas"
   ]
  }
 ],
 "metadata": {
  "kernelspec": {
   "display_name": "Python 3 (ipykernel)",
   "language": "python",
   "name": "python3"
  },
  "language_info": {
   "codemirror_mode": {
    "name": "ipython",
    "version": 3
   },
   "file_extension": ".py",
   "mimetype": "text/x-python",
   "name": "python",
   "nbconvert_exporter": "python",
   "pygments_lexer": "ipython3",
   "version": "3.9.13"
  }
 },
 "nbformat": 4,
 "nbformat_minor": 5
}

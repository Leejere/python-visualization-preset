{
 "cells": [
  {
   "cell_type": "markdown",
   "id": "5fb597d0",
   "metadata": {},
   "source": [
    "# Create color ramps"
   ]
  },
  {
   "cell_type": "markdown",
   "id": "70f63212",
   "metadata": {},
   "source": [
    "## Converting from HSV or HSL to RGB\n",
    "\n",
    "Why conversions among HSV, HSL, and RGB color systems? Because we want to create sequential or diverging color ramp sets off of a particular theme color - and a good way to do that is to keep the hue and use a sequence of different brightness or lightness. For this purpose, we need to convert an RGB hex into its corresponding HSV/HSL, tweak the V or L, before converting the new colors back to RGB hexes.\n",
    "\n",
    "Below is the function that has `hue`, `saturation`, and `brightness`/`lightness` as input, and outputs the HEX of this color. The difference between the HSB and HSL systems is documented in this [Wikipedia page](https://en.wikipedia.org/wiki/HSL_and_HSV).\n",
    "The algorithms of these conversions are found on [this website](https://www.rapidtables.com/convert/color/index.html). Note that HSB and HSV bear the same meaning."
   ]
  },
  {
   "cell_type": "code",
   "execution_count": 107,
   "id": "87b516a0",
   "metadata": {
    "code_folding": [
     4,
     56
    ]
   },
   "outputs": [],
   "source": [
    "import numpy as np\n",
    "\n",
    "# This function takes Hue, Saturation, and Brightness as input and outputs the corresponding RGB HEX code.\n",
    "# Hue is the degrees on the color ring; Saturation and Brightness are percentages.\n",
    "def hsv_to_hex(hue, saturation, brightness):\n",
    "    # 0 <= hue <= 360\n",
    "    # 0 <= saturation, brightness <= 100\n",
    "    \n",
    "    saturation = saturation / 100\n",
    "    brightness = brightness / 100\n",
    "    \n",
    "    # First we calculate three transitional variables: C, X, m\n",
    "    C = brightness * saturation\n",
    "    X = C * (1 - np.abs((hue / 60) % 2 - 1))\n",
    "    m = brightness - C\n",
    "    \n",
    "    # Then we calculate another three transitional variables: red_apos, green_apos, blue_apos\n",
    "    if hue < 60:\n",
    "        red_apos, green_apos, blue_apos = C, X, 0\n",
    "    elif hue < 120:\n",
    "        red_apos, green_apos, blue_apos = X, C, 0\n",
    "    elif hue < 180:\n",
    "        red_apos, green_apos, blue_apos = 0, C, X\n",
    "    elif hue < 240:\n",
    "        red_apos, green_apos, blue_apos = 0, X, C\n",
    "    elif hue < 300:\n",
    "        red_apos, green_apos, blue_apos = X, 0, C\n",
    "    else:\n",
    "        red_apos, green_apos, blue_apos = C, 0, X\n",
    "    \n",
    "    # Calculate the final red, green, and blue values; round them into integers.\n",
    "    red = int(np.round((red_apos + m) * 255))\n",
    "    green = int(np.round((green_apos + m) * 255))\n",
    "    blue = int(np.round((blue_apos + m) * 255))\n",
    "    \n",
    "    # Turn rgb values into hex\n",
    "    if red < 16:\n",
    "        red_hex = '0' + hex(red)[2]\n",
    "    else:\n",
    "        red_hex = hex(red)[2:]\n",
    "\n",
    "    if green < 16:\n",
    "        green_hex = '0' + hex(green)[2]\n",
    "    else:\n",
    "        green_hex = hex(green)[2:]\n",
    "    \n",
    "    if blue < 16:\n",
    "        blue_hex = '0' + hex(blue)[2]\n",
    "    else:\n",
    "        blue_hex = hex(blue)[2:]\n",
    "    \n",
    "    # Making the HEX code\n",
    "    return '#' + red_hex + green_hex + blue_hex\n",
    "\n",
    "# This function takes Hue, Saturation, and Lightness as input and outputs the corresponding RGB HEX code.\n",
    "# Hue is the degrees on the color ring; Saturation and Lightness are percentages.\n",
    "def hsl_to_hex(hue, saturation, lightness):\n",
    "    # 0 <= hue <= 360\n",
    "    # 0 <= saturation, brightness <= 100\n",
    "    \n",
    "    saturation = saturation / 100\n",
    "    lightness = lightness / 100\n",
    "    \n",
    "    # First we calculate three transitional variables: C, X, m\n",
    "    C = (1 - np.abs(2 * lightness - 1)) * saturation\n",
    "    X = C * (1 - np.abs((hue / 60) % 2 - 1))\n",
    "    m = lightness - C / 2\n",
    "    \n",
    "    # Then we calculate another three transitional variables: red_apos, green_apos, blue_apos\n",
    "    if hue < 60:\n",
    "        red_apos, green_apos, blue_apos = C, X, 0\n",
    "    elif hue < 120:\n",
    "        red_apos, green_apos, blue_apos = X, C, 0\n",
    "    elif hue < 180:\n",
    "        red_apos, green_apos, blue_apos = 0, C, X\n",
    "    elif hue < 240:\n",
    "        red_apos, green_apos, blue_apos = 0, X, C\n",
    "    elif hue < 300:\n",
    "        red_apos, green_apos, blue_apos = X, 0, C\n",
    "    else:\n",
    "        red_apos, green_apos, blue_apos = C, 0, X\n",
    "    \n",
    "    # Calculate the final red, green, and blue values; round them into integers.\n",
    "    red = int(np.round((red_apos + m) * 255))\n",
    "    green = int(np.round((green_apos + m) * 255))\n",
    "    blue = int(np.round((blue_apos + m) * 255))\n",
    "    \n",
    "    # Turn rgb values into hex\n",
    "    if red < 16:\n",
    "        red_hex = '0' + hex(red)[2]\n",
    "    else:\n",
    "        red_hex = hex(red)[2:]\n",
    "\n",
    "    if green < 16:\n",
    "        green_hex = '0' + hex(green)[2]\n",
    "    else:\n",
    "        green_hex = hex(green)[2:]\n",
    "    \n",
    "    if blue < 16:\n",
    "        blue_hex = '0' + hex(blue)[2]\n",
    "    else:\n",
    "        blue_hex = hex(blue)[2:]\n",
    "    \n",
    "    # Making the HEX code\n",
    "    return '#' + red_hex + green_hex + blue_hex"
   ]
  },
  {
   "cell_type": "markdown",
   "id": "2af95df4",
   "metadata": {},
   "source": [
    "The next function turns an RGB HEX code into its corresponding Hue, Saturation, and Brightness (or lightness)."
   ]
  },
  {
   "cell_type": "code",
   "execution_count": 108,
   "id": "f0fd87bc",
   "metadata": {
    "code_folding": [
     2,
     39
    ]
   },
   "outputs": [],
   "source": [
    "# This function takes a string (RGB HEX code) and outputs a list that has (in order) the corresponding Hue, Saturation, and Brightness.\n",
    "# Units of HSV: degrees, percentage, percentage\n",
    "def hex_to_hsv(rgb_hex):\n",
    "    \n",
    "    # Get rid of the '#'\n",
    "    rgb_hex = rgb_hex[1:]\n",
    "    \n",
    "    # Get the red, green, and blue values and divide them by 255\n",
    "    red = int(rgb_hex[0:2], 16) / 255\n",
    "    green = int(rgb_hex[2:4], 16) / 255\n",
    "    blue = int(rgb_hex[4:6], 16) / 255\n",
    "    \n",
    "    # Get three intermediate variables: c_max, c_min, delta\n",
    "    c_max = max(red, green, blue)\n",
    "    c_min = min(red, green, blue)\n",
    "    delta = c_max - c_min\n",
    "    \n",
    "    # Calculate Hue, Saturation, and Brightness values\n",
    "    if delta == 0:\n",
    "        hue = 0\n",
    "    elif c_max == red:\n",
    "        hue = 60 * (((green - blue) / delta) % 6)\n",
    "    elif c_max == green:\n",
    "        hue = 60 * ((blue - red) / delta + 2)\n",
    "    else:\n",
    "        hue = 60 * ((red - green) / delta + 4)\n",
    "    \n",
    "    if c_max == 0:\n",
    "        saturation = 0 * 100\n",
    "    else:\n",
    "        saturation = delta / c_max * 100\n",
    "    \n",
    "    brightness = c_max * 100\n",
    "    \n",
    "    return [int(np.round(hue)), int(np.round(saturation)), int(np.round(brightness))]\n",
    "\n",
    "# This function is the same as above, but outputs HSL\n",
    "# Units: degrees, percentages, percentages\n",
    "\n",
    "def hex_to_hsl(rgb_hex):\n",
    "    \n",
    "    # Get rid of the '#'\n",
    "    rgb_hex = rgb_hex[1:]\n",
    "    \n",
    "    # Get the red, green, and blue values and divide them by 255\n",
    "    red = int(rgb_hex[0:2], 16) / 255\n",
    "    green = int(rgb_hex[2:4], 16) / 255\n",
    "    blue = int(rgb_hex[4:6], 16) / 255\n",
    "    \n",
    "    # Get three intermediate variables: c_max, c_min, delta\n",
    "    # These are exactly the same as in HSV\n",
    "    c_max = max(red, green, blue)\n",
    "    c_min = min(red, green, blue)\n",
    "    delta = c_max - c_min\n",
    "    \n",
    "    # Calculate Hue, Saturation, and Brightness values\n",
    "    # Hue here is exactly the same as in HSV\n",
    "    if delta == 0:\n",
    "        hue = 0\n",
    "    elif c_max == red:\n",
    "        hue = 60 * (((green - blue) / delta) % 6)\n",
    "    elif c_max == green:\n",
    "        hue = 60 * ((blue - red) / delta + 2)\n",
    "    else:\n",
    "        hue = 60 * ((red - green) / delta + 4)\n",
    "    \n",
    "    lightness = (c_max + c_min) * 100 / 2\n",
    "    \n",
    "    # The saturation here is different from that in HSV\n",
    "    if delta == 0:\n",
    "        saturation = 0 * 100\n",
    "    else:\n",
    "        saturation = delta * 100 / (1 - np.abs(2 * lightness / 100 - 1))\n",
    "    \n",
    "    return [int(np.round(hue)), int(np.round(saturation)), int(np.round(lightness))]"
   ]
  },
  {
   "cell_type": "markdown",
   "id": "7800d26a",
   "metadata": {},
   "source": [
    "## Creating monochromatic color ramps\n",
    "In this section, let's try to make a functionality to create a **monochromatic color ramp** basing off of a theme color. This color ramp consists of a specific number of fading colors, the first being the theme color, and the last being white (#FFFFFF). Monochromatic, or sequential, color ramps, are used to demonstrate a values that vary only in extent (not in direction), where the theme color denotes the strongest or highest value, and the faded colors closer to the background color denote lower values. The background color (white or black) denotes zero."
   ]
  },
  {
   "cell_type": "code",
   "execution_count": 77,
   "id": "8595009b",
   "metadata": {},
   "outputs": [],
   "source": [
    "# For demonstration purposes, we use ipycanvas to draw out the palettes\n",
    "from ipycanvas import Canvas\n",
    "square_width = 25 # This is the width of each color block in the demonstration of palettes"
   ]
  },
  {
   "cell_type": "markdown",
   "id": "7229a237",
   "metadata": {},
   "source": [
    "We create this color ramp by changing only the *lightness* of the theme color. First, we calculate the HSL of the theme color, using the functions created in the last section. Then, we make new colors using the same hue and saturation, but with varying lightness values. On a white background, we increasing the lightness values until the color becomes white (denoting zero); on a black background, vice versa."
   ]
  },
  {
   "cell_type": "code",
   "execution_count": 167,
   "id": "4f49730e",
   "metadata": {
    "code_folding": [
     5
    ]
   },
   "outputs": [],
   "source": [
    "# A function that creates a monochromatic color ramp\n",
    "# Takes 3 inputs: 1. theme color (string), 2. number of colors in this color ramp (int), 3. the lightness at the end of the sequence\n",
    "# End lightness should be close to 100 if using white background, and 0 if using black background\n",
    "# Outputs a list of the color ramp (in RGB HEX)\n",
    "\n",
    "def create_mono_lightness_ramp(theme_color, num_of_colors, end_lightness = 100):\n",
    "    \n",
    "    # Get the HSL of the theme color\n",
    "    theme_hue, theme_saturation, theme_lightness = hex_to_hsl(theme_color)[0], hex_to_hsl(theme_color)[1], hex_to_hsl(theme_color)[2]\n",
    "    \n",
    "    # Keep the H and S, make L lighter until 100% (or 0% against dark background)\n",
    "    lightness_seq = np.linspace(theme_lightness, end_lightness, num_of_colors)\n",
    "        \n",
    "    hex_seq = []\n",
    "    \n",
    "    for i in range(num_of_colors):\n",
    "        this_lightness = lightness_seq[i]\n",
    "        this_hex = hsl_to_hex(theme_hue, theme_saturation, this_lightness)\n",
    "        hex_seq.append(this_hex)\n",
    "        \n",
    "        \n",
    "    hex_seq.reverse()\n",
    "    \n",
    "    return hex_seq"
   ]
  },
  {
   "cell_type": "code",
   "execution_count": 185,
   "id": "9814a9ab",
   "metadata": {
    "code_folding": [
     0
    ]
   },
   "outputs": [
    {
     "name": "stdout",
     "output_type": "stream",
     "text": [
      "['#fbd0df', '#f9b4cc', '#f797b9', '#f47ba5', '#f25f92', '#f0427f', '#ed266c']\n"
     ]
    },
    {
     "data": {
      "application/vnd.jupyter.widget-view+json": {
       "model_id": "070181140c5247969ef21ed1d0d8fbba",
       "version_major": 2,
       "version_minor": 0
      },
      "text/plain": [
       "Canvas(height=35)"
      ]
     },
     "execution_count": 185,
     "metadata": {},
     "output_type": "execute_result"
    }
   ],
   "source": [
    "# Say our theme color is '#EE266D', let's demonstrate:\n",
    "\n",
    "color_seq = create_mono_lightness_ramp('#EE266D', 7, 90)\n",
    "print(color_seq)\n",
    "\n",
    "canvas = Canvas(height = square_width + 10)\n",
    "for i in range(len(color_seq)):\n",
    "    canvas.fill_style = color_seq[i]\n",
    "    canvas.fill_rect(i * square_width, 10, square_width)\n",
    "    if color_seq[i].upper() == '#FFFFFF':\n",
    "        canvas.stroke_style = color_seq[i - 1]\n",
    "        canvas.stroke_rect(i * square_width, 10, square_width)\n",
    "canvas"
   ]
  },
  {
   "cell_type": "markdown",
   "id": "ba0f0ec6",
   "metadata": {},
   "source": [
    "## Creating diverging color ramps\n",
    "While monochromatic color ramps denote variations in extent, **diverging color ramps** denote variations not only in extent, but also in direction, e.g., positive and negative values. For this purpose, a diverging color ramp employs **two** theme colors, denoting the highest value in each direction. In this way, a diverging color ramp consists of two monochromatic color ramps, with the background color (white or black) presenting the zero value."
   ]
  },
  {
   "cell_type": "code",
   "execution_count": 179,
   "id": "67c36a3f",
   "metadata": {
    "code_folding": [
     10
    ]
   },
   "outputs": [],
   "source": [
    "# A function that creates a diverging color ramp\n",
    "# Takes 5 inputs:\n",
    "# 1. Theme color 1\n",
    "# 2. Theme color 2\n",
    "# 3. number of colors based off of theme color 1\n",
    "# 4. number of colors based off of theme color 2\n",
    "# 5. end lightness based off of theme color 1\n",
    "# 6. end lightness based off of theme color 2\n",
    "# 7. insert a zero color in the middle\n",
    "\n",
    "def create_div_lightness_ramp(theme_color_1, theme_color_2, num_of_colors_1, num_of_colors_2, end_lightness_1 = 100, end_lightness_2 = 100, insert_color = ''):\n",
    "    \n",
    "    # Get the HSL of the theme colors\n",
    "    theme_hue_1, theme_saturation_1, theme_lightness_1 = hex_to_hsl(theme_color_1)[0], hex_to_hsl(theme_color_1)[1], hex_to_hsl(theme_color_1)[2]\n",
    "    theme_hue_2, theme_saturation_2, theme_lightness_2 = hex_to_hsl(theme_color_2)[0], hex_to_hsl(theme_color_2)[1], hex_to_hsl(theme_color_2)[2]\n",
    "    \n",
    "    # If end_lightness_1 == end_lightness_2 == 0 or 100, \n",
    "    # it means they share a zero color, and the function automatically deletes a duplicate color\n",
    "    \n",
    "    ramp_1 = create_mono_lightness_ramp(theme_color_1, num_of_colors_1, end_lightness_1)\n",
    "    ramp_2 = create_mono_lightness_ramp(theme_color_2, num_of_colors_2, end_lightness_2)\n",
    "    ramp_1.reverse()\n",
    "    ramp = ramp_1 + ramp_2\n",
    "    \n",
    "    if (end_lightness_1 == 100 & end_lightness_2 == 100) | (end_lightness_1 == 0 & end_lightness_2 == 0):\n",
    "        ramp.pop(num_of_colors_1)\n",
    "    if insert_color != '':\n",
    "        ramp.insert(num_of_colors_1, insert_color)\n",
    "    \n",
    "    return ramp"
   ]
  },
  {
   "cell_type": "code",
   "execution_count": 184,
   "id": "f740395b",
   "metadata": {},
   "outputs": [
    {
     "name": "stdout",
     "output_type": "stream",
     "text": [
      "['#ed266c', '#f47ba5', '#fbd0df', '#FFFFFF', '#ccf1ff', '#5ed4ff', '#00b0f0']\n"
     ]
    },
    {
     "data": {
      "application/vnd.jupyter.widget-view+json": {
       "model_id": "5ce62ab5bec74acc8f2041fdc53b943d",
       "version_major": 2,
       "version_minor": 0
      },
      "text/plain": [
       "Canvas(height=35)"
      ]
     },
     "execution_count": 184,
     "metadata": {},
     "output_type": "execute_result"
    }
   ],
   "source": [
    "# Let's demonstrate:\n",
    "\n",
    "color_seq = create_div_lightness_ramp('#EE266D', '#00AEEF', 3, 3, 90, 90, '#FFFFFF')\n",
    "print(color_seq)\n",
    "\n",
    "canvas = Canvas(height = square_width + 10)\n",
    "for i in range(len(color_seq)):\n",
    "    canvas.fill_style = color_seq[i]\n",
    "    canvas.fill_rect(i * square_width, 10, square_width)\n",
    "canvas"
   ]
  }
 ],
 "metadata": {
  "kernelspec": {
   "display_name": "Python 3 (ipykernel)",
   "language": "python",
   "name": "python3"
  },
  "language_info": {
   "codemirror_mode": {
    "name": "ipython",
    "version": 3
   },
   "file_extension": ".py",
   "mimetype": "text/x-python",
   "name": "python",
   "nbconvert_exporter": "python",
   "pygments_lexer": "ipython3",
   "version": "3.9.13"
  }
 },
 "nbformat": 4,
 "nbformat_minor": 5
}

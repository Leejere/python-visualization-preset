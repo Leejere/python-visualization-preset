{
 "cells": [
  {
   "cell_type": "markdown",
   "id": "7253af49",
   "metadata": {},
   "source": [
    "# Customized Matplotlib Color Maps\n",
    "\n",
    "In this section are some functions that create matplotlib color maps based on chosed theme colors."
   ]
  },
  {
   "cell_type": "code",
   "execution_count": 29,
   "id": "e93db134",
   "metadata": {},
   "outputs": [
    {
     "name": "stderr",
     "output_type": "stream",
     "text": [
      "  % Total    % Received % Xferd  Average Speed   Time    Time     Time  Current\n",
      "                                 Dload  Upload   Total   Spent    Left  Speed\n",
      "\n",
      "  0     0    0     0    0     0      0      0 --:--:-- --:--:-- --:--:--     0\n",
      "100 11160  100 11160    0     0  86827      0 --:--:-- --:--:-- --:--:-- 87187\n"
     ]
    }
   ],
   "source": [
    "# First, load the codes that convert between RGB and HSL codes\n",
    "!curl -O https://raw.githubusercontent.com/Leejere/python-visualization-preset/main/convert_colors.ipynb\n",
    "\n",
    "%run convert_colors.ipynb"
   ]
  },
  {
   "cell_type": "markdown",
   "id": "639e8c36",
   "metadata": {},
   "source": [
    "First, let's create a monochromatic sequential color map based off of a theme color and transitioning towards white, black, or transparent."
   ]
  },
  {
   "cell_type": "code",
   "execution_count": null,
   "id": "d1495e91",
   "metadata": {
    "code_folding": []
   },
   "outputs": [],
   "source": [
    "# Let's say we use this salmon color (#EF8872)\n",
    "\n",
    "# Inputs:\n",
    "# theme_color: string, hex: the main color that this cmap is based on\n",
    "# end_saturation (optional): \"same\", \"down\", \"gray\", or integer (pct)\n",
    "# end_lightness: integer (pct); black if 0, white if 100; or \"same\"\n",
    "# end_alpha: number(transparency 0-1)\n",
    "def create_mono_cmap(theme_color, end_saturation, end_lightness, end_alpha):\n",
    "    \n",
    "    # First, convert this color into HSL\n",
    "    this_h, this_s, this_l = [i for i in hex_to_hsl(theme_color)] # this_s, this_l: 0-100\n",
    "    \n",
    "    # Get end HSL\n",
    "    # Keep hue same\n",
    "    # Saturation (0-100)\n",
    "    if end_saturation == 'same':\n",
    "        end_s = this_s\n",
    "    elif end_saturation == 'down':\n",
    "        end_s = this_s / 2\n",
    "    elif end_saturation == 'gray':\n",
    "        end_s = 0\n",
    "    elif end_saturation <= 100 & end_saturation >= 0:\n",
    "        end_s = end_saturation\n",
    "    else:\n",
    "        print('end_saturation input error')\n",
    "    \n",
    "    # Lightness (0-100)\n",
    "    if end_lightness == 'same':\n",
    "        end_l = this_l\n",
    "    elif end_lightness >= 0 & end_lightness <= 100:\n",
    "        end_l = end_lightness\n",
    "    else:\n",
    "        print('end_lightness input error')\n",
    "    \n",
    "    # Alpha\n",
    "    if end_alpha >= 0 & end_alpha <= 1:\n",
    "        end_a = end_alpha\n",
    "    else:\n",
    "        print('end_alpha input error')\n",
    "    \n",
    "    # Now we'll convert the hsl's into rgb's\n",
    "    this_r, this_g, this_b = hsl_to_rgb(this_h, this_s, this_l)\n",
    "    \n",
    "    # Create color map\n",
    "    \n",
    "    vals = np.ones((256, 4)) # Create a two-dimensional np.array\n",
    "    vals[:, 0] = np.linspace(this_h / 256, 1, 256) # Hue\n",
    "    vals[:, 1] = np.linspace(39/256, 1, N)\n",
    "    vals[:, 2] = np.linspace(41/256, 1, N)\n",
    "    vals[:, 2] = np.linspace(41/256, 1, N)\n",
    "    newcmp = ListedColormap(vals)"
   ]
  },
  {
   "cell_type": "code",
   "execution_count": 32,
   "id": "af00f223",
   "metadata": {},
   "outputs": [
    {
     "data": {
      "text/plain": [
       "[34, 31, 27]"
      ]
     },
     "execution_count": 32,
     "metadata": {},
     "output_type": "execute_result"
    }
   ],
   "source": [
    "hsl_to_rgb(34, 12, 12)"
   ]
  },
  {
   "cell_type": "code",
   "execution_count": 16,
   "id": "b5903f3f",
   "metadata": {},
   "outputs": [],
   "source": [
    "this_hue, this_saturation, this_lightness = [i for i in hex_to_hsl('EF8872')]"
   ]
  },
  {
   "cell_type": "code",
   "execution_count": 18,
   "id": "3f36eaa9",
   "metadata": {},
   "outputs": [
    {
     "data": {
      "text/plain": [
       "49"
      ]
     },
     "execution_count": 18,
     "metadata": {},
     "output_type": "execute_result"
    }
   ],
   "source": [
    "this_lightness"
   ]
  }
 ],
 "metadata": {
  "kernelspec": {
   "display_name": "Python 3 (ipykernel)",
   "language": "python",
   "name": "python3"
  },
  "language_info": {
   "codemirror_mode": {
    "name": "ipython",
    "version": 3
   },
   "file_extension": ".py",
   "mimetype": "text/x-python",
   "name": "python",
   "nbconvert_exporter": "python",
   "pygments_lexer": "ipython3",
   "version": "3.9.13"
  }
 },
 "nbformat": 4,
 "nbformat_minor": 5
}

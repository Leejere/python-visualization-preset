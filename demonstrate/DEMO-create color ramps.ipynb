{
 "cells": [
  {
   "cell_type": "markdown",
   "id": "5fb597d0",
   "metadata": {},
   "source": [
    "# DEMO: Create color ramps"
   ]
  },
  {
   "cell_type": "markdown",
   "id": "70f63212",
   "metadata": {},
   "source": [
    "Here we demonstrate the functionalities of color ramp creation. First let's load and run the code."
   ]
  },
  {
   "cell_type": "code",
   "execution_count": 25,
   "id": "f0fd87bc",
   "metadata": {
    "code_folding": []
   },
   "outputs": [
    {
     "name": "stderr",
     "output_type": "stream",
     "text": [
      "  % Total    % Received % Xferd  Average Speed   Time    Time     Time  Current\n",
      "                                 Dload  Upload   Total   Spent    Left  Speed\n",
      "\n",
      "  0     0    0     0    0     0      0      0 --:--:-- --:--:-- --:--:--     0\n",
      "  0     0    0     0    0     0      0      0 --:--:-- --:--:-- --:--:--     0\n",
      "100 14738  100 14738    0     0   211k      0 --:--:-- --:--:-- --:--:--  211k\n"
     ]
    }
   ],
   "source": [
    "!curl -O https://raw.githubusercontent.com/Leejere/python-visualization-preset/main/create_color_ramps.ipynb"
   ]
  },
  {
   "cell_type": "code",
   "execution_count": 26,
   "id": "8a58b47a",
   "metadata": {},
   "outputs": [],
   "source": [
    "%run create_color_ramps.ipynb"
   ]
  },
  {
   "cell_type": "markdown",
   "id": "7800d26a",
   "metadata": {},
   "source": [
    "First let's demonstrate a monochromatic color ramp whose theme color is pink (#EE266D). `ipycanvas` is used to draw the demo palettes. Let's do a white background and then a dark background."
   ]
  },
  {
   "cell_type": "code",
   "execution_count": 27,
   "id": "9814a9ab",
   "metadata": {
    "code_folding": []
   },
   "outputs": [
    {
     "name": "stdout",
     "output_type": "stream",
     "text": [
      "['#ffffff', '#fcdbe6', '#f9b7ce', '#f692b5', '#f36e9d', '#f04a84', '#ed266c']\n"
     ]
    },
    {
     "data": {
      "application/vnd.jupyter.widget-view+json": {
       "model_id": "64511cec708443d798d609f1426c232f",
       "version_major": 2,
       "version_minor": 0
      },
      "text/plain": [
       "Canvas(height=35)"
      ]
     },
     "execution_count": 27,
     "metadata": {},
     "output_type": "execute_result"
    }
   ],
   "source": [
    "# For demonstration purposes, we use ipycanvas to draw out the palettes\n",
    "from ipycanvas import Canvas\n",
    "square_width = 25 # This is the width of each color block in the demonstration of palettes\n",
    "# Say our theme color is '#EE266D', let's demonstrate a white background:\n",
    "\n",
    "color_seq = create_mono_lightness_ramp('#EE266D', 7, 100)\n",
    "print(color_seq)\n",
    "\n",
    "canvas = Canvas(height = square_width + 10)\n",
    "for i in range(len(color_seq)):\n",
    "    canvas.fill_style = color_seq[i]\n",
    "    canvas.fill_rect(i * square_width, 10, square_width)\n",
    "    if color_seq[i].upper() == '#FFFFFF':\n",
    "        canvas.stroke_style = color_seq[i + 1]\n",
    "        canvas.stroke_rect(i * square_width, 10, square_width)\n",
    "canvas"
   ]
  },
  {
   "cell_type": "code",
   "execution_count": 28,
   "id": "92074c8a",
   "metadata": {},
   "outputs": [
    {
     "name": "stdout",
     "output_type": "stream",
     "text": [
      "['#000000', '#2a0311', '#550722', '#7f0a33', '#aa0e44', '#d41155', '#ed266c']\n"
     ]
    },
    {
     "data": {
      "application/vnd.jupyter.widget-view+json": {
       "model_id": "c90c771f473c4c17acba2e61796f5880",
       "version_major": 2,
       "version_minor": 0
      },
      "text/plain": [
       "Canvas(height=35)"
      ]
     },
     "execution_count": 28,
     "metadata": {},
     "output_type": "execute_result"
    }
   ],
   "source": [
    "# And then a dark background\n",
    "\n",
    "color_seq = create_mono_lightness_ramp('#EE266D', 7, 0)\n",
    "print(color_seq)\n",
    "\n",
    "canvas = Canvas(height = square_width + 10)\n",
    "for i in range(len(color_seq)):\n",
    "    canvas.fill_style = color_seq[i]\n",
    "    canvas.fill_rect(i * square_width, 10, square_width)\n",
    "    if color_seq[i].upper() == '#FFFFFF':\n",
    "        canvas.stroke_style = color_seq[i + 1]\n",
    "        canvas.stroke_rect(i * square_width, 10, square_width)\n",
    "canvas"
   ]
  },
  {
   "cell_type": "markdown",
   "id": "ba0f0ec6",
   "metadata": {},
   "source": [
    "Next, let's domonstrate a diverging color ramp consisting of two colors: pink (#EE266D) and blue (#00AEEF)."
   ]
  },
  {
   "cell_type": "code",
   "execution_count": 29,
   "id": "f740395b",
   "metadata": {},
   "outputs": [
    {
     "name": "stdout",
     "output_type": "stream",
     "text": [
      "['#ed266c', '#f47ba5', '#fbd0df', '#FFFFFF', '#ccf1ff', '#5ed4ff', '#00b0f0']\n"
     ]
    },
    {
     "data": {
      "application/vnd.jupyter.widget-view+json": {
       "model_id": "44969fcd8ac644009e5fda5b38c5b266",
       "version_major": 2,
       "version_minor": 0
      },
      "text/plain": [
       "Canvas(height=35)"
      ]
     },
     "execution_count": 29,
     "metadata": {},
     "output_type": "execute_result"
    }
   ],
   "source": [
    "# Zero color of white and three categories in each direction starting from 90% lightness\n",
    "\n",
    "color_seq = create_div_lightness_ramp('#EE266D', '#00AEEF', 3, 3, 90, 90, '#FFFFFF')\n",
    "print(color_seq)\n",
    "\n",
    "canvas = Canvas(height = square_width + 10)\n",
    "for i in range(len(color_seq)):\n",
    "    canvas.fill_style = color_seq[i]\n",
    "    canvas.fill_rect(i * square_width, 10, square_width)\n",
    "canvas"
   ]
  },
  {
   "cell_type": "code",
   "execution_count": 30,
   "id": "50b640ef",
   "metadata": {},
   "outputs": [
    {
     "name": "stdout",
     "output_type": "stream",
     "text": [
      "['#ed266c', '#a30d42', '#47061c', '#000000', '#00384d', '#00749e', '#00b0f0']\n"
     ]
    },
    {
     "data": {
      "application/vnd.jupyter.widget-view+json": {
       "model_id": "af240ec9479f43189fbf512b7a52da97",
       "version_major": 2,
       "version_minor": 0
      },
      "text/plain": [
       "Canvas(height=35)"
      ]
     },
     "execution_count": 30,
     "metadata": {},
     "output_type": "execute_result"
    }
   ],
   "source": [
    "# Zero color of black starting from 15% lightness\n",
    "\n",
    "color_seq = create_div_lightness_ramp('#EE266D', '#00AEEF', 3, 3, 15, 15, '#000000')\n",
    "print(color_seq)\n",
    "\n",
    "canvas = Canvas(height = square_width + 10)\n",
    "for i in range(len(color_seq)):\n",
    "    canvas.fill_style = color_seq[i]\n",
    "    canvas.fill_rect(i * square_width, 10, square_width)\n",
    "canvas"
   ]
  },
  {
   "cell_type": "code",
   "execution_count": 31,
   "id": "1baeecb7",
   "metadata": {},
   "outputs": [
    {
     "name": "stdout",
     "output_type": "stream",
     "text": [
      "['#ed266c', '#f47ba5', '#fbd0df', '#ccf1ff', '#5ed4ff', '#00b0f0']\n"
     ]
    },
    {
     "data": {
      "application/vnd.jupyter.widget-view+json": {
       "model_id": "c4fe424cb61f4b7ebd6c9415db7e1714",
       "version_major": 2,
       "version_minor": 0
      },
      "text/plain": [
       "Canvas(height=35)"
      ]
     },
     "execution_count": 31,
     "metadata": {},
     "output_type": "execute_result"
    }
   ],
   "source": [
    "# No zero color, against white background\n",
    "\n",
    "color_seq = create_div_lightness_ramp('#EE266D', '#00AEEF', 3, 3, 90, 90)\n",
    "print(color_seq)\n",
    "\n",
    "canvas = Canvas(height = square_width + 10)\n",
    "for i in range(len(color_seq)):\n",
    "    canvas.fill_style = color_seq[i]\n",
    "    canvas.fill_rect(i * square_width, 10, square_width)\n",
    "canvas"
   ]
  },
  {
   "cell_type": "code",
   "execution_count": 21,
   "id": "e87558f7",
   "metadata": {},
   "outputs": [
    {
     "name": "stdout",
     "output_type": "stream",
     "text": [
      "['#ed266c', '#a30d42', '#47061c', '#00384d', '#00749e', '#00b0f0']\n"
     ]
    },
    {
     "data": {
      "application/vnd.jupyter.widget-view+json": {
       "model_id": "e425e3032e0f4bfeaa2074bf35965aca",
       "version_major": 2,
       "version_minor": 0
      },
      "text/plain": [
       "Canvas(height=35)"
      ]
     },
     "execution_count": 21,
     "metadata": {},
     "output_type": "execute_result"
    }
   ],
   "source": [
    "# No zero color, against black background\n",
    "\n",
    "color_seq = create_div_lightness_ramp('#EE266D', '#00AEEF', 3, 3, 15, 15)\n",
    "print(color_seq)\n",
    "\n",
    "canvas = Canvas(height = square_width + 10)\n",
    "for i in range(len(color_seq)):\n",
    "    canvas.fill_style = color_seq[i]\n",
    "    canvas.fill_rect(i * square_width, 10, square_width)\n",
    "canvas"
   ]
  },
  {
   "cell_type": "code",
   "execution_count": 32,
   "id": "689ba777",
   "metadata": {},
   "outputs": [
    {
     "name": "stdout",
     "output_type": "stream",
     "text": [
      "['#ed266c', '#f692b5', '#ffffff', '#78dbff', '#00b0f0']\n"
     ]
    },
    {
     "data": {
      "application/vnd.jupyter.widget-view+json": {
       "model_id": "f8b608a675244cbe8c7bcb4135e43e84",
       "version_major": 2,
       "version_minor": 0
      },
      "text/plain": [
       "Canvas(height=35)"
      ]
     },
     "execution_count": 32,
     "metadata": {},
     "output_type": "execute_result"
    }
   ],
   "source": [
    "# Automatic deleting duplicate white zero color\n",
    "\n",
    "color_seq = create_div_lightness_ramp('#EE266D', '#00AEEF', 3, 3, 100, 100)\n",
    "print(color_seq)\n",
    "\n",
    "canvas = Canvas(height = square_width + 10)\n",
    "for i in range(len(color_seq)):\n",
    "    canvas.fill_style = color_seq[i]\n",
    "    canvas.fill_rect(i * square_width, 10, square_width)\n",
    "canvas"
   ]
  },
  {
   "cell_type": "code",
   "execution_count": 23,
   "id": "f83f2135",
   "metadata": {},
   "outputs": [
    {
     "name": "stdout",
     "output_type": "stream",
     "text": [
      "['#ed266c', '#7f0a33', '#000000', '#005878', '#00b0f0']\n"
     ]
    },
    {
     "data": {
      "application/vnd.jupyter.widget-view+json": {
       "model_id": "d0f9b6ae70fe4920b09ca1254fd99ef3",
       "version_major": 2,
       "version_minor": 0
      },
      "text/plain": [
       "Canvas(height=35)"
      ]
     },
     "execution_count": 23,
     "metadata": {},
     "output_type": "execute_result"
    }
   ],
   "source": [
    "# Automatic deleting duplicate black zero color\n",
    "\n",
    "color_seq = create_div_lightness_ramp('#EE266D', '#00AEEF', 3, 3, 0, 0)\n",
    "print(color_seq)\n",
    "\n",
    "canvas = Canvas(height = square_width + 10)\n",
    "for i in range(len(color_seq)):\n",
    "    canvas.fill_style = color_seq[i]\n",
    "    canvas.fill_rect(i * square_width, 10, square_width)\n",
    "canvas"
   ]
  }
 ],
 "metadata": {
  "kernelspec": {
   "display_name": "Python 3 (ipykernel)",
   "language": "python",
   "name": "python3"
  },
  "language_info": {
   "codemirror_mode": {
    "name": "ipython",
    "version": 3
   },
   "file_extension": ".py",
   "mimetype": "text/x-python",
   "name": "python",
   "nbconvert_exporter": "python",
   "pygments_lexer": "ipython3",
   "version": "3.9.13"
  }
 },
 "nbformat": 4,
 "nbformat_minor": 5
}

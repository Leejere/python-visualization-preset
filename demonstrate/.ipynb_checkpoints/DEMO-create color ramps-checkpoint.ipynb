{
 "cells": [
  {
   "cell_type": "markdown",
   "id": "5fb597d0",
   "metadata": {},
   "source": [
    "# DEMO: Create color ramps"
   ]
  },
  {
   "cell_type": "markdown",
   "id": "70f63212",
   "metadata": {},
   "source": [
    "Here we demonstrate the functionalities of color ramp creation. First let's load and run the code."
   ]
  },
  {
   "cell_type": "code",
   "execution_count": 1,
   "id": "f0fd87bc",
   "metadata": {
    "code_folding": []
   },
   "outputs": [
    {
     "name": "stderr",
     "output_type": "stream",
     "text": [
      "  % Total    % Received % Xferd  Average Speed   Time    Time     Time  Current\n",
      "                                 Dload  Upload   Total   Spent    Left  Speed\n",
      "\n",
      "  0     0    0     0    0     0      0      0 --:--:-- --:--:-- --:--:--     0\n",
      "100  7623  100  7623    0     0  62698      0 --:--:-- --:--:-- --:--:-- 63000\n"
     ]
    }
   ],
   "source": [
    "!curl -O https://raw.githubusercontent.com/Leejere/python-visualization-preset/main/create_color_ramps.ipynb"
   ]
  },
  {
   "cell_type": "code",
   "execution_count": 2,
   "id": "8a58b47a",
   "metadata": {},
   "outputs": [
    {
     "name": "stderr",
     "output_type": "stream",
     "text": [
      "  % Total    % Received % Xferd  Average Speed   Time    Time     Time  Current\n",
      "                                 Dload  Upload   Total   Spent    Left  Speed\n",
      "\n",
      "  0     0    0     0    0     0      0      0 --:--:-- --:--:-- --:--:--     0\n",
      "  0     0    0     0    0     0      0      0 --:--:-- --:--:-- --:--:--     0\n",
      "100  9533  100  9533    0     0   173k      0 --:--:-- --:--:-- --:--:--  172k\n"
     ]
    }
   ],
   "source": [
    "%run create_color_ramps.ipynb"
   ]
  },
  {
   "cell_type": "markdown",
   "id": "7800d26a",
   "metadata": {},
   "source": [
    "First let's demonstrate a monochromatic color ramp whose theme color is pink (#EE266D). `ipycanvas` is used to draw the demo palettes. Let's do a white background and then a dark background."
   ]
  },
  {
   "cell_type": "code",
   "execution_count": 3,
   "id": "9814a9ab",
   "metadata": {
    "code_folding": []
   },
   "outputs": [
    {
     "name": "stdout",
     "output_type": "stream",
     "text": [
      "['#ffffff', '#fcdbe6', '#f9b7ce', '#f692b5', '#f36e9d', '#f04a84', '#ed266c']\n"
     ]
    },
    {
     "data": {
      "application/vnd.jupyter.widget-view+json": {
       "model_id": "47d418a5f24e4673a4c23037a53da8b6",
       "version_major": 2,
       "version_minor": 0
      },
      "text/plain": [
       "Canvas(height=35)"
      ]
     },
     "execution_count": 3,
     "metadata": {},
     "output_type": "execute_result"
    }
   ],
   "source": [
    "# For demonstration purposes, we use ipycanvas to draw out the palettes\n",
    "from ipycanvas import Canvas\n",
    "square_width = 25 # This is the width of each color block in the demonstration of palettes\n",
    "# Say our theme color is '#EE266D', let's demonstrate a white background:\n",
    "\n",
    "color_seq = create_mono_lightness_ramp('#EE266D', 7, 100)\n",
    "print(color_seq)\n",
    "\n",
    "canvas = Canvas(height = square_width + 10)\n",
    "for i in range(len(color_seq)):\n",
    "    canvas.fill_style = color_seq[i]\n",
    "    canvas.fill_rect(i * square_width, 10, square_width)\n",
    "    if color_seq[i].upper() == '#FFFFFF':\n",
    "        canvas.stroke_style = color_seq[i + 1]\n",
    "        canvas.stroke_rect(i * square_width, 10, square_width)\n",
    "canvas"
   ]
  },
  {
   "cell_type": "code",
   "execution_count": 4,
   "id": "92074c8a",
   "metadata": {},
   "outputs": [
    {
     "name": "stdout",
     "output_type": "stream",
     "text": [
      "['#000000', '#2a0311', '#550722', '#7f0a33', '#aa0e44', '#d41155', '#ed266c']\n"
     ]
    },
    {
     "data": {
      "application/vnd.jupyter.widget-view+json": {
       "model_id": "0da44d2a9b4b4f89838f59cdd20c232d",
       "version_major": 2,
       "version_minor": 0
      },
      "text/plain": [
       "Canvas(height=35)"
      ]
     },
     "execution_count": 4,
     "metadata": {},
     "output_type": "execute_result"
    }
   ],
   "source": [
    "# And then a dark background\n",
    "\n",
    "color_seq = create_mono_lightness_ramp('#EE266D', 7, 0)\n",
    "print(color_seq)\n",
    "\n",
    "canvas = Canvas(height = square_width + 10)\n",
    "for i in range(len(color_seq)):\n",
    "    canvas.fill_style = color_seq[i]\n",
    "    canvas.fill_rect(i * square_width, 10, square_width)\n",
    "    if color_seq[i].upper() == '#FFFFFF':\n",
    "        canvas.stroke_style = color_seq[i + 1]\n",
    "        canvas.stroke_rect(i * square_width, 10, square_width)\n",
    "canvas"
   ]
  },
  {
   "cell_type": "markdown",
   "id": "ba0f0ec6",
   "metadata": {},
   "source": [
    "Next, let's domonstrate a diverging color ramp consisting of two colors: pink (#EE266D) and blue (#00AEEF)."
   ]
  },
  {
   "cell_type": "code",
   "execution_count": 5,
   "id": "f740395b",
   "metadata": {},
   "outputs": [
    {
     "name": "stdout",
     "output_type": "stream",
     "text": [
      "['#ed266c', '#f47ba5', '#fbd0df', '#FFFFFF', '#ccf1ff', '#5ed4ff', '#00b0f0']\n"
     ]
    },
    {
     "data": {
      "application/vnd.jupyter.widget-view+json": {
       "model_id": "0597b983e0704e0ea73fd1e006af7a3e",
       "version_major": 2,
       "version_minor": 0
      },
      "text/plain": [
       "Canvas(height=35)"
      ]
     },
     "execution_count": 5,
     "metadata": {},
     "output_type": "execute_result"
    }
   ],
   "source": [
    "# Zero color of white and three categories in each direction starting from 90% lightness\n",
    "\n",
    "color_seq = create_div_lightness_ramp('#EE266D', '#00AEEF', 3, 3, 90, 90, '#FFFFFF')\n",
    "print(color_seq)\n",
    "\n",
    "canvas = Canvas(height = square_width + 10)\n",
    "for i in range(len(color_seq)):\n",
    "    canvas.fill_style = color_seq[i]\n",
    "    canvas.fill_rect(i * square_width, 10, square_width)\n",
    "canvas"
   ]
  },
  {
   "cell_type": "code",
   "execution_count": 6,
   "id": "50b640ef",
   "metadata": {},
   "outputs": [
    {
     "name": "stdout",
     "output_type": "stream",
     "text": [
      "['#ed266c', '#a30d42', '#47061c', '#000000', '#00384d', '#00749e', '#00b0f0']\n"
     ]
    },
    {
     "data": {
      "application/vnd.jupyter.widget-view+json": {
       "model_id": "3d0539897dcb4adeb4e384936cd75234",
       "version_major": 2,
       "version_minor": 0
      },
      "text/plain": [
       "Canvas(height=35)"
      ]
     },
     "execution_count": 6,
     "metadata": {},
     "output_type": "execute_result"
    }
   ],
   "source": [
    "# Zero color of black starting from 15% lightness\n",
    "\n",
    "color_seq = create_div_lightness_ramp('#EE266D', '#00AEEF', 3, 3, 15, 15, '#000000')\n",
    "print(color_seq)\n",
    "\n",
    "canvas = Canvas(height = square_width + 10)\n",
    "for i in range(len(color_seq)):\n",
    "    canvas.fill_style = color_seq[i]\n",
    "    canvas.fill_rect(i * square_width, 10, square_width)\n",
    "canvas"
   ]
  },
  {
   "cell_type": "code",
   "execution_count": 7,
   "id": "1baeecb7",
   "metadata": {},
   "outputs": [
    {
     "name": "stdout",
     "output_type": "stream",
     "text": [
      "['#ed266c', '#f47ba5', '#fbd0df', '#ccf1ff', '#5ed4ff', '#00b0f0']\n"
     ]
    },
    {
     "data": {
      "application/vnd.jupyter.widget-view+json": {
       "model_id": "5ba689430de8499880565d4474d7fe12",
       "version_major": 2,
       "version_minor": 0
      },
      "text/plain": [
       "Canvas(height=35)"
      ]
     },
     "execution_count": 7,
     "metadata": {},
     "output_type": "execute_result"
    }
   ],
   "source": [
    "# No zero color, against white background\n",
    "\n",
    "color_seq = create_div_lightness_ramp('#EE266D', '#00AEEF', 3, 3, 90, 90)\n",
    "print(color_seq)\n",
    "\n",
    "canvas = Canvas(height = square_width + 10)\n",
    "for i in range(len(color_seq)):\n",
    "    canvas.fill_style = color_seq[i]\n",
    "    canvas.fill_rect(i * square_width, 10, square_width)\n",
    "canvas"
   ]
  },
  {
   "cell_type": "code",
   "execution_count": 8,
   "id": "e87558f7",
   "metadata": {},
   "outputs": [
    {
     "name": "stdout",
     "output_type": "stream",
     "text": [
      "['#ed266c', '#a30d42', '#47061c', '#00384d', '#00749e', '#00b0f0']\n"
     ]
    },
    {
     "data": {
      "application/vnd.jupyter.widget-view+json": {
       "model_id": "933019bef44f4f158efe977fe2b76959",
       "version_major": 2,
       "version_minor": 0
      },
      "text/plain": [
       "Canvas(height=35)"
      ]
     },
     "execution_count": 8,
     "metadata": {},
     "output_type": "execute_result"
    }
   ],
   "source": [
    "# No zero color, against black background\n",
    "\n",
    "color_seq = create_div_lightness_ramp('#EE266D', '#00AEEF', 3, 3, 15, 15)\n",
    "print(color_seq)\n",
    "\n",
    "canvas = Canvas(height = square_width + 10)\n",
    "for i in range(len(color_seq)):\n",
    "    canvas.fill_style = color_seq[i]\n",
    "    canvas.fill_rect(i * square_width, 10, square_width)\n",
    "canvas"
   ]
  },
  {
   "cell_type": "code",
   "execution_count": 9,
   "id": "689ba777",
   "metadata": {},
   "outputs": [
    {
     "name": "stdout",
     "output_type": "stream",
     "text": [
      "['#ed266c', '#f692b5', '#ffffff', '#78dbff', '#00b0f0']\n"
     ]
    },
    {
     "data": {
      "application/vnd.jupyter.widget-view+json": {
       "model_id": "ef0e97638e6642ecb7faa79763c30982",
       "version_major": 2,
       "version_minor": 0
      },
      "text/plain": [
       "Canvas(height=35)"
      ]
     },
     "execution_count": 9,
     "metadata": {},
     "output_type": "execute_result"
    }
   ],
   "source": [
    "# Automatic deleting duplicate white zero color\n",
    "\n",
    "color_seq = create_div_lightness_ramp('#EE266D', '#00AEEF', 3, 3, 100, 100)\n",
    "print(color_seq)\n",
    "\n",
    "canvas = Canvas(height = square_width + 10)\n",
    "for i in range(len(color_seq)):\n",
    "    canvas.fill_style = color_seq[i]\n",
    "    canvas.fill_rect(i * square_width, 10, square_width)\n",
    "canvas"
   ]
  },
  {
   "cell_type": "code",
   "execution_count": 10,
   "id": "f83f2135",
   "metadata": {},
   "outputs": [
    {
     "name": "stdout",
     "output_type": "stream",
     "text": [
      "['#ed266c', '#7f0a33', '#000000', '#005878', '#00b0f0']\n"
     ]
    },
    {
     "data": {
      "application/vnd.jupyter.widget-view+json": {
       "model_id": "83a4a22f0054487cbfca0022de31a35e",
       "version_major": 2,
       "version_minor": 0
      },
      "text/plain": [
       "Canvas(height=35)"
      ]
     },
     "execution_count": 10,
     "metadata": {},
     "output_type": "execute_result"
    }
   ],
   "source": [
    "# Automatic deleting duplicate black zero color\n",
    "\n",
    "color_seq = create_div_lightness_ramp('#EE266D', '#00AEEF', 3, 3, 0, 0)\n",
    "print(color_seq)\n",
    "\n",
    "canvas = Canvas(height = square_width + 10)\n",
    "for i in range(len(color_seq)):\n",
    "    canvas.fill_style = color_seq[i]\n",
    "    canvas.fill_rect(i * square_width, 10, square_width)\n",
    "canvas"
   ]
  }
 ],
 "metadata": {
  "kernelspec": {
   "display_name": "Python 3 (ipykernel)",
   "language": "python",
   "name": "python3"
  },
  "language_info": {
   "codemirror_mode": {
    "name": "ipython",
    "version": 3
   },
   "file_extension": ".py",
   "mimetype": "text/x-python",
   "name": "python",
   "nbconvert_exporter": "python",
   "pygments_lexer": "ipython3",
   "version": "3.9.13"
  }
 },
 "nbformat": 4,
 "nbformat_minor": 5
}
